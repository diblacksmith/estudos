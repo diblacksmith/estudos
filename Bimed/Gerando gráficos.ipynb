{
 "cells": [
  {
   "cell_type": "code",
   "execution_count": 3,
   "metadata": {},
   "outputs": [],
   "source": [
    "%matplotlib inline\n",
    "# import psycopg2\n",
    "import pandas as pd\n",
    "from matplotlib import pyplot as plt\n",
    "# import seaborn as sns"
   ]
  },
  {
   "cell_type": "code",
   "execution_count": 4,
   "metadata": {},
   "outputs": [],
   "source": [
    "meses = ('Janeiro', 'Fevereiro', u'Março', 'Abril', \n",
    "         'Maio', 'Junho', 'Julho', 'Agosto',\n",
    "         'Setembro', 'Outubro', 'Novembro', 'Dezembro')\n",
    "\n",
    "ano2013 = pd.read_csv(\"ano2013.csv\", index_col=\"Modalidade\")\n",
    "ano2014 = pd.read_csv(\"ano2014.csv\", index_col=\"Modalidade\")\n",
    "ano2015 = pd.read_csv(\"ano2015.csv\", index_col=\"Modalidade\")\n",
    "ano2016 = pd.read_csv(\"ano2016.csv\", index_col=\"Modalidade\")"
   ]
  },
  {
   "cell_type": "code",
   "execution_count": 5,
   "metadata": {},
   "outputs": [
    {
     "data": {
      "text/plain": [
       "599"
      ]
     },
     "execution_count": 5,
     "metadata": {},
     "output_type": "execute_result"
    }
   ],
   "source": [
    "ano2016['12'][1]"
   ]
  },
  {
   "cell_type": "code",
   "execution_count": 11,
   "metadata": {},
   "outputs": [
    {
     "data": {
      "text/plain": [
       "<matplotlib.text.Text at 0x7f83c5997b10>"
      ]
     },
     "execution_count": 11,
     "metadata": {},
     "output_type": "execute_result"
    },
    {
     "data": {
      "image/png": "[encoded data removed]",
      "text/plain": [
       "<matplotlib.figure.Figure at 0x7f83c5a9c910>"
      ]
     },
     "metadata": {},
     "output_type": "display_data"
    }
   ],
   "source": [
    "plt.barh(range(1,3), [ano2016[str(x)][-1] for x in range(1,3)], alpha=0.75)\n",
    "plt.yticks(range(1,13),meses)\n",
    "plt.xlabel('Quantidade de exames')\n",
    "plt.title(u'Numero de novos exames(no geral) por mês no ano de 2016')"
   ]
  },
  {
   "cell_type": "code",
   "execution_count": 41,
   "metadata": {},
   "outputs": [
    {
     "data": {
      "text/plain": [
       "17"
      ]
     },
     "execution_count": 41,
     "metadata": {},
     "output_type": "execute_result"
    }
   ],
   "source": [
    "len([x for x in ano2016['12']])"
   ]
  },
  {
   "cell_type": "code",
   "execution_count": 59,
   "metadata": {},
   "outputs": [
    {
     "data": {
      "text/plain": [
       "[8868, 9319, 7435, 9097, 9576, 10128, 9167, 12453, 8504, 8190, 9299, 8170]"
      ]
     },
     "execution_count": 59,
     "metadata": {},
     "output_type": "execute_result"
    }
   ],
   "source": []
  },
  {
   "cell_type": "code",
   "execution_count": null,
   "metadata": {
    "collapsed": true
   },
   "outputs": [],
   "source": []
  }
 ],
 "metadata": {
  "kernelspec": {
   "display_name": "Python 2",
   "language": "python",
   "name": "python2"
  },
  "language_info": {
   "codemirror_mode": {
    "name": "ipython",
    "version": 2
   },
   "file_extension": ".py",
   "mimetype": "text/x-python",
   "name": "python",
   "nbconvert_exporter": "python",
   "pygments_lexer": "ipython2",
   "version": "2.7.14"
  }
 },
 "nbformat": 4,
 "nbformat_minor": 1
}
