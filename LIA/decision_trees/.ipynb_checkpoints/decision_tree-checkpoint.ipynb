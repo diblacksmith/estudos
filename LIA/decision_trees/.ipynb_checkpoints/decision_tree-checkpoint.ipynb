{
 "cells": [
  {
   "cell_type": "markdown",
   "metadata": {
    "slideshow": {
     "slide_type": "slide"
    }
   },
   "source": [
    "# Tutorial: Implementando uma Árvore de Decisão (Decision Tree) em Python\n",
    "\n",
    "Árvore de decisão é um algoritmo de aprendizado supervisionado (supervised learning) que é mais comumente utilizado para classificação.\n",
    "\n",
    "A ideia é encontrar uma série de perguntas (decisões) que te ajudem a chegar a uma conclusão sobre um objeto.\n",
    "\n",
    "Por exemplo: suponha que você quer descobrir o tipo de uma fruta, sabendo suas características principais: cor, *suculência* e textura. Um raciocínio plausível seria pensar: se for vermelha, suculenta e lisinha por fora, deve ser **maçã**. Se for laranja, suculenta e rugosa por fora, deve ser **laranja**. E por aí vai!\n",
    "\n",
    "Com machine learning, utilizamos técnicas para ajudar o computador a encontrar essas decisões **sozinho**. Em casos mais complicados, uma árvore de decisão pode ter essa cara:\n"
   ]
  },
  {
   "cell_type": "markdown",
   "metadata": {},
   "source": [
    "![title](src/decision_tree.ppm)\n",
    "**Fonte: [Jorge Luis Cavalcanti Ramos](https://www.researchgate.net/publication/312605379_Uma_abordagem_preditiva_da_evasao_na_educacao_a_distancia_a_partir_dos_construtos_da_distancia_transacional)**"
   ]
  },
  {
   "cell_type": "markdown",
   "metadata": {},
   "source": [
    "ou essa:"
   ]
  },
  {
   "cell_type": "markdown",
   "metadata": {},
   "source": [
    "<img src=\"src/dtree.png\" alt=\"Drawing\" style=\"width: 350px;\"/>\n",
    "**Fonte: [Analytics Vidhya](https://www.analyticsvidhya.com/blog/2016/04/complete-tutorial-tree-based-modeling-scratch-in-python/)**"
   ]
  },
  {
   "cell_type": "markdown",
   "metadata": {},
   "source": [
    "## Pegando a intuição"
   ]
  },
  {
   "cell_type": "markdown",
   "metadata": {},
   "source": [
    "Considere a imagem abaixo:"
   ]
  },
  {
   "cell_type": "markdown",
   "metadata": {},
   "source": [
    "<img src=\"src/decisaoresposta.png\" alt=\"Drawing\" style=\"width: 550px;\"/>"
   ]
  },
  {
   "cell_type": "markdown",
   "metadata": {},
   "source": [
    "Podemos entender que cada **decisão** no diagrama acima representa uma linha que colocamos em um conjunto de dados, que o divide em dois conjuntos diferentes e, ao terminar, temos as respostas finais. No exemplo da fruta, uma dessas decisões é baseada na textura da casca: separamos o conjunto de dados em frutas com casca lisa (como a maçã) e frutas com casca rugosa (como a laranja). A intenção, a cada decisão tomada, é dividir o conjunto de dados em subconjuntos diferentes. E o ideal é que esses subconjuntos gerados sejam cada vez mais homogêneos.\n",
    "\n",
    "Como assim?\n",
    "\n",
    "Na imagem abaixo, qual dos conjuntos (A, B ou C) é mais fácil de descrever? Eu aposto que a sua resposta será o conjunto C, porque precisamos dar menos informação já que todos os seus elementos são similares. Seguindo a mesma lógica, o B requer mais informação para descrever do que o C, mas requer menos informação que o A, que é mais misturado.\n"
   ]
  },
  {
   "cell_type": "markdown",
   "metadata": {},
   "source": [
    "<img src=\"src/conjuntos.png\" alt=\"Drawing\"/>"
   ]
  },
  {
   "cell_type": "markdown",
   "metadata": {},
   "source": [
    "Perceba que, quanto mais homogêneo for o conjunto, mais fácil de descrever ele será. Ao montar árvores de decisão, sempre iremos procurar por “cortes” que dividam o nosso conjunto em subconjuntos mais homogêneos. Ou seja, em conjuntos que agrupam elementos parecidos. E no final, esses grupos homogêneos são mais fáceis de classificar.\n",
    "\n",
    "É bastante fácil de pegar a intuição por trás das árvores de decisão quando brincamos de “Quem sou eu”. Essa brincadeira consiste em escrever uma palavra qualquer (normalmente um objeto ou alguém conhecido) em um *post-it* e colá-lo na testa de um amigo, sem que este possa ler o que foi escrito. Em seguida, o amigo terá que fazer perguntas de sim ou não para conseguir desvendar qual é a palavra secreta escrita em sua testa."
   ]
  },
  {
   "cell_type": "markdown",
   "metadata": {},
   "source": [
    "<img src=\"src/postit.png\" alt=\"Drawing\"/>\n",
    "\n",
    "**Fonte: [Noguru](http://www.noguru.net/ever-stuck-post-note-forehead-511.html)**"
   ]
  },
  {
   "cell_type": "markdown",
   "metadata": {},
   "source": [
    "Com certeza não é uma boa estratégia começar logo perguntando “é uma batata?” ou “é o Mr. Meeseks?”. Essas perguntas muito diretas, logo de início, não te ajudam muito a chegar na resposta certa porque, se você errar, não ganha muita informação. Na verdade, faz mais sentido começar fazendo perguntas mais gerais como “é uma fruta?” ou “é um personagem?”. Dessa forma, estamos ganhando mais informação a cada pergunta feita, de maneira que vai ficando menos difícil de acertar qual a resposta certa, porque o conjunto de possibilidades vai ficando cada vez mais homogêneo.\n",
    "\n",
    "Em resumo: para criar uma árvore de decisão, precisamos:\n",
    "- Encontrar a melhor decisão que divida o nosso conjunto de dados em grupos menores. O melhor \"corte\" (decisão) é aquele que gera subgrupos mais \"puros\" (homogêneos).\n",
    "- Fazer isso várias vezes até que consigamos uma boa taxa de acertos.\n"
   ]
  },
  {
   "cell_type": "markdown",
   "metadata": {},
   "source": [
    "## Definindo \"homogeneidade\": uma métrica\n",
    "\n",
    "Para que sejamos capazes de criar essa árvore, precisamos de alguma medida que nos permita decidir se um corte é melhor que outro. Na seção passada, intuitivamente descobrimos que o melhor corte é aquele que dá origem a grupos mais homogêneos do que os anteriores. Portanto, para decidir qual é o melhor corte, precisamos aprender a medir homogeneidade!\n",
    "\n",
    "Uma das formas de medir isso é usando uma métrica chamada de [**Índice de Gini**](https://pt.wikipedia.org/wiki/Coeficiente_de_Gini), e é o que usaremos nesse estudo.\n",
    "\n",
    "Com o índice de Gini, podemos ter uma noção (expressa numericamente) do quão bom um corte é, através de o quão puros são os subgrupos gerados pelo corte. Um corte perfeito, que separa um grupo em dois subgrupos puros (completamente homogêneos) corresponde a um índice de Gini de 0. Já o caso contrário, quando o corte gera dois subgrupos completamente misturados (50% de uma classe e 50% da outra), temos um índice de Gini de 0.5. (Lembre que estamos preocupados em fazer apenas cortes binários, isto é, cortes que podem resultar em uma de duas classes).\n",
    "\n",
    "Para calcular o nosso índice, iremos usar uma versão simplificada, conforme consta abaixo:\n",
    "\n",
    "<img src=\"src/formula.png\" alt=\"Drawing\"/>\n",
    "\n",
    "Onde:\n",
    "G = nosso índice\n",
    "p = as proporções de cada classe em cada subgrupo.\n",
    "\n",
    "Este cálculo nos servirá para calcular qual é o índice de Gini **em um grupo de dados qualquer**. Mas, para o nosso estudo, precisamos usar esse índice para dois SUBGRUPOS que foram resultado de um corte. Portanto, o procedimento será o seguinte: vamos calcular esse índice para cada um dos subgrupos de um corte, e vamos dizer que **o Gini do corte é a média ponderada do Gini de seus subgrupos.**\n",
    "\n",
    "Para visualizar mentalmente qual o significado deste cálculo, considere a imagem:\n",
    "\n",
    "<img src=\"src/visualizar.png\" alt=\"Drawing\"/>\n",
    "\n",
    "No nosso cálculo, p assume os valores das proporções de cada uma das duas classes em cada um dos dois grupos.\n",
    "Ou seja:\n",
    "\n",
    "<img src=\"src/proporcoes.png\" alt=\"Drawing\"/>\n",
    "\n",
    "Jogando esses valores de $p$ na fórmula, acharíamos o índice de Gini para cada subgrupo:\n",
    "$$G1 = 1 - (p1^2 + p2^2)$$\n",
    "$$G2 = 1 - (p3^2 + p4^2)$$\n",
    "\n",
    "Mas lembre que esses índices de Gini, G1 e G2, são os índices para os dois subgrupos gerados a partir de um corte. Então fazemos a média ponderada desses dois números (usando como pesos as quantidades de dados no subgrupo), e dizemos que essa média é o índice de Gini do corte como um todo!"
   ]
  },
  {
   "cell_type": "markdown",
   "metadata": {},
   "source": [
    "## Implementando\n",
    "\n",
    "Durante a seção \"pegando a intuição\" acima, nós estudamos o problema tendo em mente variáveis categóricas. Contudo, nossa implementação será voltada para variáveis numéricas contínuas, porque o nosso caso de estudo será desse jeito. Entretanto, não há com o que se preocupar, haja vista o fato de que o raciocínio é perfeitamente transferível de uma situação para outra.\n",
    "\n",
    "O primeiro passo para nossa implementação é passar a nossa versão do índice de Gini para o Python:"
   ]
  },
  {
   "cell_type": "code",
   "execution_count": 22,
   "metadata": {},
   "outputs": [
    {
     "name": "stdout",
     "output_type": "stream",
     "text": [
      "0.5\n"
     ]
    }
   ],
   "source": [
    "# Calcular o indice de Gini\n",
    "def indice_gini(grupos, classes):\n",
    "\t# contar todos os elementos\n",
    "\tqtd_elementos = float(sum([len(grupo) for grupo in grupos]))\n",
    "\t# fazer a media ponderada\n",
    "\tgini = 0.0\n",
    "\tfor grupo in grupos:\n",
    "\t\ttamanho = float(len(grupo))\n",
    "\t\t# so pra nao dividir por zero\n",
    "\t\tif tamanho == 0:\n",
    "\t\t\tcontinue\n",
    "\t\tscore = 0.0\n",
    "\t\t# calcular um score para o grupo a partir de um score para cada classe\n",
    "\t\tfor classe in classes:\n",
    "\t\t\tp = [linha[-1] for linha in grupo].count(classe) / tamanho\n",
    "\t\t\tscore += p * p\n",
    "\t\t# o peso sera a proporcao de elementos\n",
    "\t\tgini += (1.0 - score) * (tamanho / qtd_elementos)\n",
    "\treturn gini\n",
    "\n",
    "\n",
    "grupos = [\n",
    "    [[1, 1], [1, 0]],\n",
    "    [[1, 1], [1, 0]]\n",
    "]\n",
    "classes = [0, 1]\n",
    "print(indice_gini(grupos, classes))\n"
   ]
  },
  {
   "cell_type": "markdown",
   "metadata": {
    "collapsed": true
   },
   "source": [
    "Agora que temos uma ferramenta para avaliar a qualidade de um corte, vamos começar a criar cortes. O processo de cortar um grupo de dados consiste em separar o grupo em duas listas de linhas, dado o índice do atributo e o valor de corte. Em pythônico:\n",
    "-  Iterar sobre as linhas, checando se o valor do atributo está acima ou abaixo do valor de corte\n",
    "- Separar cada linha para um subgrupo \"da esquerda\" ou um subgrupo \"da direita\" dependendo do item anterior\n",
    "\n",
    "Hora do python:"
   ]
  },
  {
   "cell_type": "code",
   "execution_count": 23,
   "metadata": {
    "collapsed": true
   },
   "outputs": [],
   "source": [
    "# Fazer um corte baseado num atributo e num valor\n",
    "def corte_teste(indice, valor, conjunto_dados):\n",
    "\tesquerda, direita = list(), list()\n",
    "\tfor linha in conjunto_dados:\n",
    "\t\tif linha[indice] < valor:\n",
    "\t\t\tesquerda.append(linha)\n",
    "\t\telse:\n",
    "\t\t\tdireita.append(linha)\n",
    "\treturn esquerda, direita\n"
   ]
  },
  {
   "cell_type": "markdown",
   "metadata": {},
   "source": [
    "Com a função que calcula o índice de Gini e a que separa um grupo em dois, agora temos tudo que precisamos para gerar cortes maravilhosos. No caso de variáveis numéricas contínuas, devemos checar todos os valores possíveis de corte em todas variáveis. Só assim seremos capazes de apontar qual é o melhor corte possível. E uma vez que esse corte sensacional seja encontrado, podemos usá-lo como uma \"decisão\" na nossa árvore de decisões.\n",
    "\n",
    "Essa é a parte mais **computacionalmente intensiva** dessa técnica, justamente porque avaliamos todos os cortes possíveis em cada decisão.\n",
    "\n",
    "Até este ponto, já entendemos e implementamos a parte mais fundamental da técnica. Agora, usaremos um dicionário para representar uma decisão na árvore. Ao encontrar um corte sensacional, vamos guardar nesse dicionário o índice do atributo escolhido, o valor de corte desse atributo, e os dois grupos resultantes do corte.\n",
    "\n",
    "Com isso, talvez você já imagine que nós vamos repetir esse processo para cada grupo que for surgindo, de uma forma recursiva. Mas, por agora, vamos apenas nos contentar em pegar um corte sensacional.\n",
    "\n",
    "It's python time:"
   ]
  },
  {
   "cell_type": "code",
   "execution_count": 24,
   "metadata": {
    "collapsed": true
   },
   "outputs": [],
   "source": [
    "# Selecionar o melhor corte\n",
    "def melhor_corte(conjunto_dados):\n",
    "\tclasses = list(set(linha[-1] for linha in conjunto_dados))\n",
    "\tmelhor_indice, melhor_valor, melhor_score, melhor_grupos = 999, 999, 999, None\n",
    "\tfor indice in range(len(conjunto_dados[0])-1):\n",
    "\t\tfor linha in conjunto_dados:\n",
    "\t\t\tgrupos = corte(indice, linha[indice], conjunto_dados)\n",
    "\t\t\tgini = indice_gini(grupos, classes)\n",
    "\t\t\tif gini < melhor_score:\n",
    "\t\t\t\tmelhor_indice, melhor_valor, melhor_score, melhor_grupos = indice, linha[indice], gini, grupos\n",
    "\treturn {'indice':melhor_indice, 'valor':melhor_valor, 'grupos':melhor_grupos}\n"
   ]
  },
  {
   "cell_type": "markdown",
   "metadata": {},
   "source": [
    "Agora, vamos testar tudo que fizemos até aqui com um conjunto de dados imaginário:"
   ]
  },
  {
   "cell_type": "code",
   "execution_count": null,
   "metadata": {
    "collapsed": true
   },
   "outputs": [],
   "source": [
    "X1\t\t\t\tX\t2\t\t\tY\n",
    "2.771244718\t\t1.784783929\t\t0\n",
    "1.728571309\t\t1.169761413\t\t0\n",
    "3.678319846\t\t2.81281357\t\t0\n",
    "3.961043357\t\t2.61995032\t\t0\n",
    "2.999208922\t\t2.209014212\t\t0\n",
    "7.497545867\t\t3.162953546\t\t1\n",
    "9.00220326\t\t3.339047188\t\t1\n",
    "7.444542326\t\t0.476683375\t\t1\n",
    "10.12493903\t\t3.234550982\t\t1\n",
    "6.642287351\t\t3.319983761\t\t1"
   ]
  },
  {
   "cell_type": "markdown",
   "metadata": {},
   "source": [
    "Esse conjunto de dados foi desenhado na seguinte figura:\n",
    "<img src=\"src/dadosexemplo.png\" alt=\"Drawing\"/>\n",
    "\n",
    "**Fonte: [Machine Learning Mastery](https://machinelearningmastery.com/implement-decision-tree-algorithm-scratch-python/)**\n",
    "\n",
    "Já dá pra notar de cara que o melhor corte possível seria uma linha vertical que passa bem no meio entre os pontos azuis e os vermelhos. Algo ali por volta do 5 ou do 6 no eixo das abscissas. **Será que o nosso algoritmo vai perceber isso?** O código abaixo junta tudo que já fizemos e roda:"
   ]
  },
  {
   "cell_type": "code",
   "execution_count": 25,
   "metadata": {},
   "outputs": [
    {
     "name": "stdout",
     "output_type": "stream",
     "text": [
      "X1 < 2.771 Gini=0.444\n",
      "X1 < 1.729 Gini=0.500\n",
      "X1 < 3.678 Gini=0.286\n",
      "X1 < 3.961 Gini=0.167\n",
      "X1 < 2.999 Gini=0.375\n",
      "X1 < 7.498 Gini=0.286\n",
      "X1 < 9.002 Gini=0.375\n",
      "X1 < 7.445 Gini=0.167\n",
      "X1 < 10.125 Gini=0.444\n",
      "X1 < 6.642 Gini=0.000\n",
      "X2 < 1.785 Gini=0.500\n",
      "X2 < 1.170 Gini=0.444\n",
      "X2 < 2.813 Gini=0.320\n",
      "X2 < 2.620 Gini=0.417\n",
      "X2 < 2.209 Gini=0.476\n",
      "X2 < 3.163 Gini=0.167\n",
      "X2 < 3.339 Gini=0.444\n",
      "X2 < 0.477 Gini=0.500\n",
      "X2 < 3.235 Gini=0.286\n",
      "X2 < 3.320 Gini=0.375\n",
      "Corte: [X1 < 6.642]\n"
     ]
    }
   ],
   "source": [
    "# Fazer um corte baseado num atributo e num valor\n",
    "def corte_teste(indice, valor, conjunto_dados):\n",
    "\tesquerda, direita = list(), list()\n",
    "\tfor linha in conjunto_dados:\n",
    "\t\tif linha[indice] < valor:\n",
    "\t\t\tesquerda.append(linha)\n",
    "\t\telse:\n",
    "\t\t\tdireita.append(linha)\n",
    "\treturn esquerda, direita\n",
    "\n",
    "# Calcular o indice de Gini\n",
    "def indice_gini(grupos, classes):\n",
    "\t# contar todos os elementos\n",
    "\tqtd_elementos = float(sum([len(grupo) for grupo in grupos]))\n",
    "\t# fazer a media ponderada\n",
    "\tgini = 0.0\n",
    "\tfor grupo in grupos:\n",
    "\t\ttamanho = float(len(grupo))\n",
    "\t\t# so pra nao dividir por zero\n",
    "\t\tif tamanho == 0:\n",
    "\t\t\tcontinue\n",
    "\t\tscore = 0.0\n",
    "\t\t# calcular um score para o grupo a partir de um score para cada classe\n",
    "\t\tfor classe in classes:\n",
    "\t\t\tp = [linha[-1] for linha in grupo].count(classe) / tamanho\n",
    "\t\t\tscore += p * p\n",
    "\t\t# o peso sera a proporcao de elementos\n",
    "\t\tgini += (1.0 - score) * (tamanho / qtd_elementos)\n",
    "\treturn gini\n",
    "\n",
    "# Selecionar o melhor corte\n",
    "def melhor_corte(conjunto_dados):\n",
    "\tclasses = list(set(linha[-1] for linha in conjunto_dados))\n",
    "\tmelhor_indice, melhor_valor, melhor_score, melhor_grupos = 999, 999, 999, None\n",
    "\tfor indice in range(len(conjunto_dados[0])-1):\n",
    "\t\tfor linha in conjunto_dados:\n",
    "\t\t\tgrupos = corte(indice, linha[indice], conjunto_dados)\n",
    "\t\t\tgini = indice_gini(grupos, classes)\n",
    "\t\t\tprint('X%d < %.3f Gini=%.3f' % ((indice+1), linha[indice], gini))\n",
    "\t\t\tif gini < melhor_score:\n",
    "\t\t\t\tmelhor_indice, melhor_valor, melhor_score, melhor_grupos = indice, linha[indice], gini, grupos\n",
    "\treturn {'indice':melhor_indice, 'valor':melhor_valor, 'grupos':melhor_grupos}\n",
    "\n",
    "conjunto_dados = [[2.771244718,1.784783929,0],\n",
    "\t[1.728571309,1.169761413,0],\n",
    "\t[3.678319846,2.81281357,0],\n",
    "\t[3.961043357,2.61995032,0],\n",
    "\t[2.999208922,2.209014212,0],\n",
    "\t[7.497545867,3.162953546,1],\n",
    "\t[9.00220326,3.339047188,1],\n",
    "\t[7.444542326,0.476683375,1],\n",
    "\t[10.12493903,3.234550982,1],\n",
    "\t[6.642287351,3.319983761,1]]\n",
    "corte = melhor_corte(conjunto_dados)\n",
    "print('Corte: [X%d < %.3f]' % ((corte['indice']+1), corte['valor']))\n"
   ]
  },
  {
   "cell_type": "markdown",
   "metadata": {},
   "source": [
    "Agora é só botar a parte da recursividade e chegamos ao fim. E, como toda coisa recursiva que existe, precisamos de alguma condição de parada. No caso de uma árvore, pode ser uma quantidade máxima de decisões (\"altura\" ou \"profundidade\") que a nossa árvore de decisões irá conter. Esse valor deverá ser especificado por nós.\n",
    "\n",
    "Então vamos implementar isso, mas vamos colocar também uma quantidade mínima de registros em um grupo. Ou seja, uma vez que fazemos um corte e um dos grupos resultantes tem muito poucos registros, não faz mais sentido continuar cortando, já que uns poucos exemplos de algum evento não devem ser suficiente para extrair algum aprendizado.\n",
    "\n",
    "Outra coisa que não faz sentido é fazer um corte em um grupo que só tem elementos da mesma classe, ou seja, um grupo que, depois de vários cortes, reuniu um conjunto puro de elementos. Quando chegamos neste ponto, devemos parar de procurar mais decisões para fazer.\n",
    "\n",
    "Agora, usamos essas três ideias para decidir quando parar de aumentar o tamanho da árvore. E esse ponto, nós chamaremos de ponto terminal (como se fosse o último corte de um galho de decisões). Esse ponto será usado para fazer a decisão final. E a decisão final será feita pegando todos os registros que restaram no grupo, e selecionando a classe mais comum (a moda), para dar como resposta.\n",
    "\n",
    "Na função abaixo, implementamos a função que faz essa decisão final. Ela retorna a classe moda em um grupo de registros."
   ]
  },
  {
   "cell_type": "code",
   "execution_count": 26,
   "metadata": {
    "collapsed": true
   },
   "outputs": [],
   "source": [
    "# Criar um ponto terminal ja com a resposta\n",
    "def ponto_terminal(grupo):\n",
    "\tsaidas = [linha[-1] for linha in grupo]\n",
    "\treturn max(set(saidas), key=saidas.count)\n"
   ]
  },
  {
   "cell_type": "markdown",
   "metadata": {},
   "source": [
    "Até aqui, sabemos quando e como definir decisões. Agora, já podemos construir nossa árvore!\n",
    "\n",
    "Para isso, precisaremos chamar a nossa função de criar um corte de novo e de novo e de novo, até que estejamos satisfeitos. Vamos definir a função, tendo em mente o seguinte raciocínio:\n",
    "\n",
    "- Primeiro, pegamos o conjunto de dados que temos em mãos, e o cortamos em dois, com um corte sensacional.\n",
    "- Verificamos se esse corte gerou algum subgrupo vazio. Se sim, então temos que dar origem a um ponto terminal usando os dados que ainda temos em mãos.\n",
    "- Se passamos do nosso tamanho limite, encerramos os cortes, e criamos um ponto terminal.\n",
    "- Se não, então iremos processar o subgrupo da esquerda. Se ele for pequeno demais, criamos um ponto terminal. Se não, então criamos um corte nele também.\n",
    "- O subgrupo da direita vai receber o mesmo tratamento, sendo cortado em mais subgrupos da direita e esquerda até que o fim da árvore seja alcançado."
   ]
  },
  {
   "cell_type": "code",
   "execution_count": 27,
   "metadata": {
    "collapsed": true
   },
   "outputs": [],
   "source": [
    "# Criar subcortes ou pontos terminais\n",
    "def corte_teste(decisao, max_tamanho, min_tamanho, tamanho):\n",
    "\tesquerda, direita = decisao['grupos']\n",
    "\tdel(decisao['grupos'])\n",
    "\t# Checar se nao tem corte\n",
    "\tif not esquerda or not direita:\n",
    "\t\tdecisao['esquerda'] = decisao['direita'] = ponto_terminal(esquerda + direita)\n",
    "\t\treturn\n",
    "\t# Checar se ultrapassou o tamanho\n",
    "\tif tamanho >= max_tamanho:\n",
    "\t\tdecisao['esquerda'], decisao['direita'] = ponto_terminal(esquerda), ponto_terminal(direita)\n",
    "\t\treturn\n",
    "\t# processar o subgrupo da esquerda\n",
    "\tif len(esquerda) <= min_tamanho:\n",
    "\t\tdecisao['esquerda'] = ponto_terminal(esquerda)\n",
    "\telse:\n",
    "\t\tdecisao['esquerda'] = melhor_corte(esquerda)\n",
    "\t\tcorte(decisao['esquerda'], max_tamanho, min_tamanho, tamanho+1)\n",
    "\t# processar o subgrupo da direita\n",
    "\tif len(direita) <= min_tamanho:\n",
    "\t\tdecisao['direita'] = ponto_terminal(direita)\n",
    "\telse:\n",
    "\t\tdecisao['direita'] = melhor_corte(direita)\n",
    "\t\tcorte(decisao['direita'], max_tamanho, min_tamanho, tamanho+1)\n"
   ]
  },
  {
   "cell_type": "markdown",
   "metadata": {},
   "source": [
    "Agora vamos juntar tudo para construir a árvore! Isso irá envolver criar a raíz da árvore (o começo de tudo) e então dar início a nossa chamada de funções recursivas:"
   ]
  },
  {
   "cell_type": "code",
   "execution_count": 28,
   "metadata": {
    "collapsed": true
   },
   "outputs": [],
   "source": [
    "    # Construir uma arvore de decisao\n",
    "def construir_arvore(conjunto_treino, max_tamanho, min_tamanho):\n",
    "\traiz = melhor_corte(conjunto_treino)\n",
    "\tcorte(raiz, max_tamanho, min_tamanho, 1)\n",
    "\treturn raiz\n"
   ]
  },
  {
   "cell_type": "markdown",
   "metadata": {},
   "source": [
    "Iremos testar todo esse procedimento usando o mesmo conjunto de dados inventado lá de cima. Abaixo, o exemplo completo."
   ]
  },
  {
   "cell_type": "code",
   "execution_count": 38,
   "metadata": {},
   "outputs": [],
   "source": [
    "# Fazer um corte baseado num atributo e num valor\n",
    "def corte_teste(indice, valor, conjunto_dados):\n",
    "\tesquerda, direita = list(), list()\n",
    "\tfor linha in conjunto_dados:\n",
    "\t\tif linha[indice] < valor:\n",
    "\t\t\tesquerda.append(linha)\n",
    "\t\telse:\n",
    "\t\t\tdireita.append(linha)\n",
    "\treturn esquerda, direita\n",
    "\n",
    "# Calcular o indice de Gini\n",
    "def indice_gini(grupos, classes):\n",
    "\t# contar todos os elementos\n",
    "\tqtd_elementos = float(sum([len(grupo) for grupo in grupos]))\n",
    "\t# fazer a media ponderada\n",
    "\tgini = 0.0\n",
    "\tfor grupo in grupos:\n",
    "\t\ttamanho = float(len(grupo))\n",
    "\t\t# so pra nao dividir por zero\n",
    "\t\tif tamanho == 0:\n",
    "\t\t\tcontinue\n",
    "\t\tscore = 0.0\n",
    "\t\t# calcular um score para o grupo a partir de um score para cada classe\n",
    "\t\tfor classe in classes:\n",
    "\t\t\tp = [linha[-1] for linha in grupo].count(classe) / tamanho\n",
    "\t\t\tscore += p * p\n",
    "\t\t# o peso sera a proporcao de elementos\n",
    "\t\tgini += (1.0 - score) * (tamanho / qtd_elementos)\n",
    "\treturn gini\n",
    "\n",
    "# Selecionar o melhor corte\n",
    "def melhor_corte(conjunto_dados):\n",
    "\tclasses = list(set(linha[-1] for linha in conjunto_dados))\n",
    "\tmelhor_indice, melhor_valor, melhor_score, melhor_grupos = 999, 999, 999, None\n",
    "\tfor indice in range(len(conjunto_dados[0])-1):\n",
    "\t\tfor linha in conjunto_dados:\n",
    "\t\t\tgrupos = corte_teste(indice, linha[indice], conjunto_dados)\n",
    "\t\t\tgini = indice_gini(grupos, classes)\n",
    "\t\t\tif gini < melhor_score:\n",
    "\t\t\t\tmelhor_indice, melhor_valor, melhor_score, melhor_grupos = indice, linha[indice], gini, grupos\n",
    "\treturn {'indice':melhor_indice, 'valor':melhor_valor, 'grupos':melhor_grupos}\n",
    "\n",
    "# Criar um ponto terminal ja com a resposta\n",
    "def ponto_terminal(grupo):\n",
    "\tsaidas = [linha[-1] for linha in grupo]\n",
    "\treturn max(set(saidas), key=saidas.count)\n",
    "\n",
    "# Criar subcortes ou pontos terminais\n",
    "def corte(decisao, max_tamanho, min_tamanho, tamanho):\n",
    "\tesquerda, direita = decisao['grupos']\n",
    "\tdel(decisao['grupos'])\n",
    "\t# Checar se nao tem corte\n",
    "\tif not esquerda or not direita:\n",
    "\t\tdecisao['esquerda'] = decisao['direita'] = ponto_terminal(esquerda + direita)\n",
    "\t\treturn\n",
    "\t# Checar se ultrapassou o tamanho\n",
    "\tif tamanho >= max_tamanho:\n",
    "\t\tdecisao['esquerda'], decisao['direita'] = ponto_terminal(esquerda), ponto_terminal(direita)\n",
    "\t\treturn\n",
    "\t# processar o subgrupo da esquerda\n",
    "\tif len(esquerda) <= min_tamanho:\n",
    "\t\tdecisao['esquerda'] = ponto_terminal(esquerda)\n",
    "\telse:\n",
    "\t\tdecisao['esquerda'] = melhor_corte(esquerda)\n",
    "\t\tcorte(decisao['esquerda'], max_tamanho, min_tamanho, tamanho+1)\n",
    "\t# processar o subgrupo da direita\n",
    "\tif len(direita) <= min_tamanho:\n",
    "\t\tdecisao['direita'] = ponto_terminal(direita)\n",
    "\telse:\n",
    "\t\tdecisao['direita'] = melhor_corte(direita)\n",
    "\t\tcorte(decisao['direita'], max_tamanho, min_tamanho, tamanho+1)\n",
    "\n",
    "# Construir uma arvore de decisao\n",
    "def construir_arvore(conjunto_treino, max_tamanho, min_tamanho):\n",
    "\traiz = melhor_corte(conjunto_treino)\n",
    "\tcorte(raiz, max_tamanho, min_tamanho, 1)\n",
    "\treturn raiz\n",
    "\n",
    "conjunto_dados = [[2.771244718,1.784783929,0],\n",
    "\t[1.728571309,1.169761413,0],\n",
    "\t[3.678319846,2.81281357,0],\n",
    "\t[3.961043357,2.61995032,0],\n",
    "\t[2.999208922,2.209014212,0],\n",
    "\t[7.497545867,3.162953546,1],\n",
    "\t[9.00220326,3.339047188,1],\n",
    "\t[7.444542326,0.476683375,1],\n",
    "\t[10.12493903,3.234550982,1],\n",
    "\t[6.642287351,3.319983761,1]]\n",
    "tree = construir_arvore(conjunto_dados, 1, 1)"
   ]
  },
  {
   "cell_type": "markdown",
   "metadata": {},
   "source": [
    "O resultado disso é uma árvore de decisões completa. Ela ainda tem muito espaço para melhorias (se você for testar, vai perceber que ela cria várias decisões redundantes ou desnecessárias). Mas já é um começo.\n",
    "\n",
    "O objetivo agora é programaticamente fazer uma predição usando essa árvore. E isso também pode ser feito usando uma função recursiva, onde a mesma rotina de predição é chamada em cima de uma decisão da esquerda ou da direita, dependendo de pra onde vai o fluxo através da árvore.\n",
    "\n",
    "Devemos, então, checar se o próximo ponto é mais um ponto de corte (decisão), ou se é um ponto terminal (situação em que daremos a resposta final).\n",
    "\n",
    "*C'est le temps de python!*"
   ]
  },
  {
   "cell_type": "code",
   "execution_count": 32,
   "metadata": {
    "collapsed": true
   },
   "outputs": [],
   "source": [
    "# Realizar uma predicao com uma arvore de decisoes\n",
    "def predizer(decisao, linha):\n",
    "\tif linha[decisao['indice']] < decisao['valor']:\n",
    "\t\tif isinstance(decisao['esquerda'], dict):\n",
    "\t\t\treturn predizer(decisao['esquerda'], linha)\n",
    "\t\telse:\n",
    "\t\t\treturn decisao['esquerda']\n",
    "\telse:\n",
    "\t\tif isinstance(decisao['direita'], dict):\n",
    "\t\t\treturn predizer(decisao['direita'], linha)\n",
    "\t\telse:\n",
    "\t\t\treturn decisao['direita']\n"
   ]
  },
  {
   "cell_type": "markdown",
   "metadata": {},
   "source": [
    "Vamos testar essa função usando o conjunto de dados inventado de sempre. E vamos fazer uma predição para todas as linhas dele, usando uma árvore de decisão inventada também:"
   ]
  },
  {
   "cell_type": "code",
   "execution_count": 36,
   "metadata": {
    "scrolled": true
   },
   "outputs": [
    {
     "name": "stdout",
     "output_type": "stream",
     "text": [
      "Resultado esperado=0, Resultado=0\n",
      "Resultado esperado=0, Resultado=0\n",
      "Resultado esperado=0, Resultado=0\n",
      "Resultado esperado=0, Resultado=0\n",
      "Resultado esperado=0, Resultado=0\n",
      "Resultado esperado=1, Resultado=1\n",
      "Resultado esperado=1, Resultado=1\n",
      "Resultado esperado=1, Resultado=1\n",
      "Resultado esperado=1, Resultado=1\n",
      "Resultado esperado=1, Resultado=1\n"
     ]
    }
   ],
   "source": [
    "            # Realizar uma predicao com uma arvore de decisoes\n",
    "def predizer(decisao, linha):\n",
    "\tif linha[decisao['indice']] < decisao['valor']:\n",
    "\t\tif isinstance(decisao['esquerda'], dict):\n",
    "\t\t\treturn predizer(decisao['esquerda'], linha)\n",
    "\t\telse:\n",
    "\t\t\treturn decisao['esquerda']\n",
    "\telse:\n",
    "\t\tif isinstance(decisao['direita'], dict):\n",
    "\t\t\treturn predizer(decisao['direita'], linha)\n",
    "\t\telse:\n",
    "\t\t\treturn decisao['direita']\n",
    "\n",
    "conjunto_dados = [[2.771244718,1.784783929,0],\n",
    "\t[1.728571309,1.169761413,0],\n",
    "\t[3.678319846,2.81281357,0],\n",
    "\t[3.961043357,2.61995032,0],\n",
    "\t[2.999208922,2.209014212,0],\n",
    "\t[7.497545867,3.162953546,1],\n",
    "\t[9.00220326,3.339047188,1],\n",
    "\t[7.444542326,0.476683375,1],\n",
    "\t[10.12493903,3.234550982,1],\n",
    "\t[6.642287351,3.319983761,1]]\n",
    "\n",
    "#  predizer com uma arvore inventada\n",
    "arvore = {'indice': 0, 'direita': 1, 'valor': 6.642287351, 'esquerda': 0}\n",
    "for linha in conjunto_dados:\n",
    "\tprediction = predizer(arvore, linha)\n",
    "\tprint('Resultado esperado=%d, Resultado=%d' % (linha[-1], prediction))"
   ]
  },
  {
   "cell_type": "markdown",
   "metadata": {},
   "source": [
    "Agora, espere até a próxima semana quando vamos aplicar essa árvore num caso de estudo, e discutir melhorias."
   ]
  }
 ],
 "metadata": {
  "celltoolbar": "Raw Cell Format",
  "kernelspec": {
   "display_name": "Python 2",
   "language": "python",
   "name": "python2"
  },
  "language_info": {
   "codemirror_mode": {
    "name": "ipython",
    "version": 2
   },
   "file_extension": ".py",
   "mimetype": "text/x-python",
   "name": "python",
   "nbconvert_exporter": "python",
   "pygments_lexer": "ipython2",
   "version": "2.7.12"
  }
 },
 "nbformat": 4,
 "nbformat_minor": 2
}
