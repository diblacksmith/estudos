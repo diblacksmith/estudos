{
 "cells": [
  {
   "cell_type": "markdown",
   "metadata": {},
   "source": [
    "## SQL Cheatsheet\n",
    "\n",
    "### Fazendo múltiplos joins, inclusive com subselects\n",
    "\n",
    "Retorna um conjunto de dados que contém os dados de todas matrículas de um usuário.\n",
    "\n",
    "Contempla vários campos do curso: nome, carga horaria, porcentagem, elegibilidade\n",
    "```\n",
    "SELECT\n",
    "    cu.id as curso_id,\n",
    "    matriculas.id as matricula_id,\n",
    "    cu.nome,\n",
    "    ch_cursos.ch_total_curso,\n",
    "    cu.ch_certificacao,\n",
    "    cu.nome_imagem,\n",
    "    ultimo_progresso.porcentagem\n",
    "FROM usuarios\n",
    "\n",
    "JOIN matriculas ON matriculas.usuario_id = usuarios.id\n",
    "\n",
    "JOIN (SELECT DISTINCT ON (matricula_id) matricula_id, porcentagem, data\n",
    "    FROM progressos_matriculas ORDER BY matricula_id, data desc) as ultimo_progresso ON ultimo_progresso.matricula_id = matriculas.id\n",
    "    \n",
    "JOIN cursos as cu ON cu.id = matriculas.curso_id\n",
    "\n",
    "JOIN (SELECT SUM(carga_horaria) as ch_total_curso,cursos.id as c_id FROM unidades\n",
    "    JOIN cursos_tem_unidades as c_u ON unidades.id = c_u.unidade_id\n",
    "    JOIN cursos ON c_u.curso_id = cursos.id\n",
    "    GROUP BY cursos.id) as ch_cursos ON ch_cursos.c_id = cu.id\n",
    "    \n",
    "WHERE usuarios.id = ?\n",
    "ORDER BY ultimo_progresso.porcentagem DESC;\n",
    "```"
   ]
  },
  {
   "cell_type": "markdown",
   "metadata": {},
   "source": [
    "### Agrupando por uma certa coluna, e para cada grupo pegar apenas o de menor valor\n",
    "\n",
    "```\n",
    "SELECT\n",
    "    M.CName, M.AddressLine,\n",
    "FROM\n",
    "    (\n",
    "    SELECT\n",
    "        CName, MIN(Inserted) AS First\n",
    "    FROM\n",
    "        MyTable\n",
    "    GROUP BY\n",
    "        CName\n",
    "    ) foo\n",
    "    JOIN\n",
    "    MyTable M ON foo.CName = M.CName AND foo.First = M.Inserted\n",
    "```"
   ]
  },
  {
   "cell_type": "code",
   "execution_count": null,
   "metadata": {
    "collapsed": true
   },
   "outputs": [],
   "source": []
  }
 ],
 "metadata": {
  "kernelspec": {
   "display_name": "Python 2",
   "language": "python",
   "name": "python2"
  },
  "language_info": {
   "codemirror_mode": {
    "name": "ipython",
    "version": 2
   },
   "file_extension": ".py",
   "mimetype": "text/x-python",
   "name": "python",
   "nbconvert_exporter": "python",
   "pygments_lexer": "ipython2",
   "version": "2.7.14"
  }
 },
 "nbformat": 4,
 "nbformat_minor": 0
}
