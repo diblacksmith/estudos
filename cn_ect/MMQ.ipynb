{
 "cells": [
  {
   "cell_type": "code",
   "execution_count": 3,
   "metadata": {},
   "outputs": [],
   "source": [
    "import numpy as np\n",
    "\n",
    "#Stanford numpy tutorial: http://cs231n.github.io/python-numpy-tutorial/#numpy"
   ]
  },
  {
   "cell_type": "code",
   "execution_count": 28,
   "metadata": {},
   "outputs": [
    {
     "data": {
      "text/plain": [
       "array([ 2.47857143,  2.35928571,  1.86071429])"
      ]
     },
     "execution_count": 28,
     "metadata": {},
     "output_type": "execute_result"
    }
   ],
   "source": [
    "def somatorios_comproduto(x, grau, com_y=False, y=[]):\n",
    "    \"\"\"Faz um somatório dos elementos de x elevados a uma potência.\n",
    "    Pode incluir os elementos de y multiplicando no somatório\n",
    "    Exemplo de saída:\n",
    "    sum(x²)\n",
    "    ou\n",
    "    sum(y*x²)\n",
    "    \"\"\"\n",
    "    if com_y:\n",
    "        x = [(e**grau)*y[i] for i, e in enumerate(x)]\n",
    "    else:\n",
    "        x = [e**grau for e in x]\n",
    "        \n",
    "    return sum(x)\n",
    "        \n",
    "    \n",
    "\n",
    "def matriz_somatorios(x, grau):\n",
    "    \"\"\"Faz a matriz de somatórios\n",
    "    Exemplo de saída:\n",
    "    [[sum(x⁰)  sum(x¹)]\n",
    "     [sum(x¹)  sum(x²)]]\n",
    "    \"\"\"\n",
    "    grau = grau + 1\n",
    "    X = np.zeros((grau, grau))\n",
    "    \n",
    "    for i in range(0, grau):\n",
    "        for j in range(0, grau):\n",
    "            X[i,j] = somatorios_comproduto(x, i+j)\n",
    "            \n",
    "    return X\n",
    "    \n",
    "    \n",
    "def matriz_independentes(x,y, grau):\n",
    "    \"\"\"Faz a matriz de somatórios do membro independente\n",
    "    Exemplo de saída:\n",
    "    [sum(y*x⁰)  sum(y*x¹)]\n",
    "    \"\"\"\n",
    "    grau = grau + 1\n",
    "    X = np.zeros(grau)\n",
    "    \n",
    "    for i in range(0, grau):\n",
    "            X[i] = somatorios_comproduto(x, i, com_y=True, y=y)\n",
    "            \n",
    "    return X\n",
    "    \n",
    "    \n",
    "### Setup do problema de MMQ(dados): \n",
    "#Grau é o grau do polinômio\n",
    "grau = 2\n",
    "x = np.array([0, 1, 2, 3, 4, 5])\n",
    "y = np.array([2.1, 7.7, 13.6, 27.2, 40.9, 61.1])\n",
    "### Resolvendo\n",
    "a = matriz_somatorios(x, grau)\n",
    "b = matriz_independentes(x,y,grau)\n",
    "resposta = np.linalg.solve(a,b)\n",
    "resposta"
   ]
  }
 ],
 "metadata": {
  "kernelspec": {
   "display_name": "Python 2",
   "language": "python",
   "name": "python2"
  },
  "language_info": {
   "codemirror_mode": {
    "name": "ipython",
    "version": 2
   },
   "file_extension": ".py",
   "mimetype": "text/x-python",
   "name": "python",
   "nbconvert_exporter": "python",
   "pygments_lexer": "ipython2",
   "version": "2.7.14"
  }
 },
 "nbformat": 4,
 "nbformat_minor": 2
}
