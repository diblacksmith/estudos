{
 "cells": [
  {
   "cell_type": "code",
   "execution_count": 1,
   "metadata": {
    "collapsed": false
   },
   "outputs": [
    {
     "name": "stdout",
     "output_type": "stream",
     "text": [
      "[*] Extraindo artigos de thread_stems2017-11-30-18:03:40.042485.txt\n"
     ]
    }
   ],
   "source": [
    "import webbrowser\n",
    "from ast import literal_eval\n",
    "import re\n",
    "from datetime import datetime\n",
    "from time import sleep\n",
    "from IPython.display import clear_output\n",
    "\n",
    "filename = \"thread_stems2017-11-30-18:03:40.042485.txt\"\n",
    "with open(filename,'r') as myf:\n",
    "    print '[*] Extraindo artigos de', filename\n",
    "    s = myf.read()\n",
    "    stems = literal_eval(s)"
   ]
  },
  {
   "cell_type": "code",
   "execution_count": 17,
   "metadata": {
    "collapsed": false
   },
   "outputs": [
    {
     "name": "stdout",
     "output_type": "stream",
     "text": [
      "index                               termo                       quantidade\n",
      "0                         Tomography AND Artificial Intelligence 2\n",
      "1                   Arterial Coronary Syndrome AND Deep Learning 1\n",
      "2                           Patient Assessment AND Deep Learning 8\n",
      "3            Coronary Artery Disease AND Artificial Intelligence 10\n",
      "4                              Tomography AND image segmentation 0\n",
      "5                      Coronary Artery Disease AND Deep Learning 2\n",
      "6                 Patient Assessment AND Artificial Intelligence 3\n",
      "7                          Risk Stratification AND Deep Learning 4\n",
      "8                        Patient Assessment AND Image processing 2\n",
      "9                      Patient Assessment AND image segmentation 8\n",
      "10                                 Angiography AND Deep Learning 20\n",
      "11               Arterial Coronary Syndrome AND Image processing 20\n",
      "12                        Risk Score AND Artificial Intelligence 20\n",
      "13             Arterial Coronary Syndrome AND image segmentation 20\n",
      "14                       Angiography AND Artificial Intelligence 20\n",
      "15                              Angiography AND Image processing 20\n",
      "16                      Risk Stratification AND Image processing 20\n",
      "17                             Risk Score AND image segmentation 20\n",
      "18                                  Risk Score AND Deep Learning 20\n",
      "19                  Coronary Artery Disease AND Image processing 20\n",
      "20                               Tomography AND Image processing 20\n",
      "21                Coronary Artery Disease AND image segmentation 20\n",
      "22               Risk Stratification AND Artificial Intelligence 20\n",
      "23                            Angiography AND image segmentation 20\n",
      "24        Arterial Coronary Syndrome AND Artificial Intelligence 20\n",
      "25                                  Tomography AND Deep Learning 20\n",
      "26                               Risk Score AND Image processing 20\n",
      "27                    Risk Stratification AND image segmentation 20\n"
     ]
    }
   ],
   "source": [
    "print 'index','termo'.rjust(35),'quantidade'.rjust(32)\n",
    "for i,key in enumerate(stems.keys()):\n",
    "    print str(i).ljust(3), key.rjust(60),len(stems[key])"
   ]
  },
  {
   "cell_type": "code",
   "execution_count": 35,
   "metadata": {
    "collapsed": false
   },
   "outputs": [
    {
     "name": "stdout",
     "output_type": "stream",
     "text": [
      "Risk Score AND image segmentation  =  16\n",
      ">>>>>>>>> Risk Score AND image segmentation\n",
      "Evaluation of a deep learning approach for the segmentation of brain tissues and white matter hyperintensities of presumed vascular origin in MRI \n",
      "\n",
      "Brain MRI, Segmentation, White matter hyperintensities, Deep learning, Convolutional neural networks, Motion artefacts, Brain atrophy \n",
      "\n",
      "The MRBrainS131 (Mendrik et al., 2015) framework consists of MR images and manual segmentations from 20 patients (age, mean ± standard deviation: 71 ± 4 years; 10 male, 10 female). The MR images were manually segmented in eight classes: white matter (WM), cortical grey matter (cGM), basal ganglia and thalami (BGT), cerebellum (CB), brain stem (BS), lateral ventricular cerebrospinal fluid (lvCSF), peripheral cerebrospinal fluid (pCSF), and WMH. Note that the MRBrainS13 challenge only includes evaluation of three combined tissue classes: white matter (including WMH), grey matter (including BGT) and CSF (pCSF and lvCSF) instead of all eight classes.Patients with type 2 diabetes mellitus and healthy controls were included from the Utrecht Diabetic Encephalopathy Study part 2 (UDES2) (Reijmer et al., 2013). The images used in MRBrainS13 were selected from the UDES2 cohort. From the UDES2 cohort we analysed images from 96 additional patients (age, mean ± standard deviation: 71 ± 5 years; 58 male, 38 female; 51 with type 2 diabetes mellitus and 45 healthy controls). Reference segmentations of WMH were performed by manual outlining on the FLAIR images using relatively strict criteria (Brundel et al., 2014). \n",
      "\n",
      "Ação sair\n",
      "saindo\n",
      "[*] resultados salvos em thread_stems2017-12-01-17:58:01.741831.txt\n"
     ]
    }
   ],
   "source": [
    "print 'index','termo'.rjust(35),'quantidade'.rjust(32)\n",
    "for i,key in enumerate(stems.keys()):\n",
    "    print str(i).ljust(3), key.rjust(60),len(stems[key])\n",
    "    \n",
    "index = int(raw_input(\"Seleção: \"))\n",
    "\n",
    "\n",
    "for e,key in enumerate(stems.keys()):\n",
    "    if e < index:\n",
    "        continue\n",
    "    i = 0\n",
    "    sair_flag = False\n",
    "    while i < len(stems[key]):\n",
    "        clear_output(wait=True)\n",
    "        print key,' = ',len(stems[key])\n",
    "        print '>>>>>>>>>', key\n",
    "        article = stems[key][i]\n",
    "        print article['title'],'\\n'\n",
    "        print article['kwd'],'\\n'\n",
    "        print article['p'],'\\n'\n",
    "        \n",
    "        apagar = re.compile(\"(apa|del|rem)\",re.IGNORECASE)\n",
    "        url = re.compile(\"(url|link|ender|site|abr|ope)\",re.IGNORECASE)\n",
    "        proximo = re.compile(\"(con|ava|pro|nex)\",re.IGNORECASE)\n",
    "        sair = re.compile(\"(sai|lea|exi|fin)\",re.IGNORECASE)\n",
    "        \n",
    "        match = False\n",
    "        while not match:\n",
    "            sleep(0.5)\n",
    "            act = raw_input(\"Ação \")\n",
    "            if apagar.match(act):\n",
    "                print 'apagando'\n",
    "                stems[key].remove(article)\n",
    "                match = True\n",
    "                i -= 1\n",
    "            elif url.match(act):\n",
    "                print 'abrindo'\n",
    "                i -= 1\n",
    "                sleep(0.5)\n",
    "                webbrowser.open(article['url'])\n",
    "                match = True\n",
    "                sleep(1.5)\n",
    "            elif proximo.match(act) or act == '':\n",
    "                print 'continuando'\n",
    "                match = True\n",
    "                continue\n",
    "            elif sair.match(act):\n",
    "                print 'saindo'\n",
    "                i = len(stems[key])\n",
    "                match = True\n",
    "                sair_flag = True\n",
    "            else:\n",
    "                print 'invalido!'\n",
    "        i += 1\n",
    "    filename = \"thread_stems\" + str(datetime.now()).replace(' ','-') + '.txt'\n",
    "    with open(filename, 'w') as myf:\n",
    "        myf.write(str(stems))\n",
    "        print '[*] resultados salvos em',filename\n",
    "        \n",
    "    if sair_flag:\n",
    "        break"
   ]
  },
  {
   "cell_type": "code",
   "execution_count": 32,
   "metadata": {
    "collapsed": false
   },
   "outputs": [
    {
     "data": {
      "text/plain": [
       "['Tomography AND Artificial Intelligence',\n",
       " 'Arterial Coronary Syndrome AND Deep Learning',\n",
       " 'Patient Assessment AND Deep Learning',\n",
       " 'Coronary Artery Disease AND Artificial Intelligence',\n",
       " 'Tomography AND image segmentation',\n",
       " 'Coronary Artery Disease AND Deep Learning',\n",
       " 'Patient Assessment AND Artificial Intelligence',\n",
       " 'Risk Stratification AND Deep Learning',\n",
       " 'Patient Assessment AND Image processing',\n",
       " 'Patient Assessment AND image segmentation',\n",
       " 'Angiography AND Deep Learning',\n",
       " 'Arterial Coronary Syndrome AND Image processing',\n",
       " 'Risk Score AND Artificial Intelligence',\n",
       " 'Arterial Coronary Syndrome AND image segmentation',\n",
       " 'Angiography AND Artificial Intelligence',\n",
       " 'Angiography AND Image processing',\n",
       " 'Risk Stratification AND Image processing',\n",
       " 'Risk Score AND image segmentation',\n",
       " 'Risk Score AND Deep Learning',\n",
       " 'Coronary Artery Disease AND Image processing',\n",
       " 'Tomography AND Image processing',\n",
       " 'Coronary Artery Disease AND image segmentation',\n",
       " 'Risk Stratification AND Artificial Intelligence',\n",
       " 'Angiography AND image segmentation',\n",
       " 'Arterial Coronary Syndrome AND Artificial Intelligence',\n",
       " 'Tomography AND Deep Learning',\n",
       " 'Risk Score AND Image processing',\n",
       " 'Risk Stratification AND image segmentation']"
      ]
     },
     "execution_count": 32,
     "metadata": {},
     "output_type": "execute_result"
    }
   ],
   "source": [
    "stems.keys()"
   ]
  },
  {
   "cell_type": "code",
   "execution_count": 19,
   "metadata": {
    "collapsed": false
   },
   "outputs": [
    {
     "name": "stdout",
     "output_type": "stream",
     "text": [
      "[*] resultados salvos em thread_stems2017-11-30-18:03:40.042485.txt\n"
     ]
    }
   ],
   "source": [
    "filename = \"thread_stems\" + str(datetime.now()).replace(' ','-') + '.txt'\n",
    "with open(filename, 'w') as myf:\n",
    "    myf.write(str(stems))\n",
    "    print '[*] resultados salvos em',filename"
   ]
  },
  {
   "cell_type": "code",
   "execution_count": null,
   "metadata": {
    "collapsed": true
   },
   "outputs": [],
   "source": []
  }
 ],
 "metadata": {
  "kernelspec": {
   "display_name": "Python 2",
   "language": "python",
   "name": "python2"
  },
  "language_info": {
   "codemirror_mode": {
    "name": "ipython",
    "version": 2
   },
   "file_extension": ".py",
   "mimetype": "text/x-python",
   "name": "python",
   "nbconvert_exporter": "python",
   "pygments_lexer": "ipython2",
   "version": "2.7.14"
  }
 },
 "nbformat": 4,
 "nbformat_minor": 0
}
