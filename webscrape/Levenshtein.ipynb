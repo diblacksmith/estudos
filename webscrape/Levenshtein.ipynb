{
 "cells": [
  {
   "cell_type": "code",
   "execution_count": 1,
   "metadata": {},
   "outputs": [
    {
     "name": "stdout",
     "output_type": "stream",
     "text": [
      "3\n",
      "The function was called 127 times!\n"
     ]
    }
   ],
   "source": [
    "def call_counter(func):\n",
    "    def helper(*args, **kwargs):\n",
    "        helper.calls += 1\n",
    "        return func(*args, **kwargs)\n",
    "    helper.calls = 0\n",
    "    helper.__name__= func.__name__\n",
    "    return helper\n",
    "def memoize(func):\n",
    "    mem = {}\n",
    "    def memoizer(*args, **kwargs):\n",
    "        key = str(args) + str(kwargs)\n",
    "        if key not in mem:\n",
    "            mem[key] = func(*args, **kwargs)\n",
    "        return mem[key]\n",
    "    return memoizer\n",
    "@call_counter\n",
    "@memoize    \n",
    "def levenshtein(s, t):\n",
    "    if s == \"\":\n",
    "        return len(t)\n",
    "    if t == \"\":\n",
    "        return len(s)\n",
    "    if s[-1] == t[-1]:\n",
    "        cost = 0\n",
    "    else:\n",
    "        cost = 1\n",
    "    \n",
    "    res = min([levenshtein(s[:-1], t)+1,\n",
    "               levenshtein(s, t[:-1])+1, \n",
    "               levenshtein(s[:-1], t[:-1]) + cost])\n",
    "    return res\n",
    "print(levenshtein(\"Python\", \"Peithen\"))\n",
    "print(\"The function was called \" + str(levenshtein.calls) + \" times!\")"
   ]
  },
  {
   "cell_type": "code",
   "execution_count": 58,
   "metadata": {},
   "outputs": [],
   "source": [
    "import mechanize\n",
    "from urllib import urlencode\n",
    "from bs4 import BeautifulSoup as bsoup\n",
    "import sqlite3\n",
    "#Browser\n",
    "driver = mechanize.Browser()\n",
    "#URLs\n",
    "base_url = \"https://www.ncbi.nlm.nih.gov\"\n",
    "pesquisa = {'term':'risk AND learning '}\n",
    "resposta = driver.open(base_url + '/pmc/', urlencode(pesquisa))\n",
    "soup = bsoup(resposta.read(), \"html5lib\")"
   ]
  },
  {
   "cell_type": "code",
   "execution_count": 60,
   "metadata": {},
   "outputs": [
    {
     "data": {
      "text/plain": [
       "[u'Neuronal Reward and Decision Signals: From Theories to Data',\n",
       " u'Neural Computations Mediating One-Shot Learning in the Human Brain',\n",
       " u'Behavioral contagion during learning about another agent\\u2019s risk-preferences acts on the neural representation of decision-risk',\n",
       " u'Evolution of social learning when high expected payoffs are associated with high risk of failure',\n",
       " u'Student Buy-In to Active Learning in a College Science Course',\n",
       " u'Identifying Learning Patterns of Children at Risk for Specific Reading Disability',\n",
       " u'Statistically optimal perception and learning: from behavior to neural representations: Perceptual learning, motor learning, and automaticity',\n",
       " u'Complementary contributions of basolateral amygdala and orbitofrontal cortex to value learning under uncertainty',\n",
       " u'Skill learning and the evolution of social learning mechanisms',\n",
       " u'Effects of News Frames on Perceived Risk, Emotions, and Learning',\n",
       " u'Quality specifications in postgraduate medical e-learning: an integrative literature review leading to a postgraduate medical e-learning model',\n",
       " u'Pain-relief learning in flies, rats, and man: basic research and applied perspectives',\n",
       " u'Student Attitudes toward Learning Analytics in Higher Education: \\u201cThe Fitbit Version of the Learning World\\u201d',\n",
       " u'Common Neural Mechanisms Underlying Reversal Learning by Reward and Punishment',\n",
       " u'Reward learning in pediatric depression and anxiety: Preliminary findings in a high-risk sample',\n",
       " u'Higher frequency of social learning in China than in the West shows cultural variation in the dynamics of cultural evolution',\n",
       " u'Modelling the pre-assessment learning effects of assessment: evidence in the validity chain',\n",
       " u'Cerebellar and Prefrontal Cortex Contributions to Adaptation, Strategies, and Reinforcement Learning',\n",
       " u'Is Implicit Motor Learning Preserved after Stroke? A Systematic Review with Meta-Analysis',\n",
       " u'Punishment sensitivity modulates the processing of negative feedback but not error-induced learning']"
      ]
     },
     "execution_count": 60,
     "metadata": {},
     "output_type": "execute_result"
    }
   ],
   "source": [
    "links = soup.findAll(\"div\", {\"class\":\"title\"})\n",
    "[link.text for link in links]"
   ]
  },
  {
   "cell_type": "code",
   "execution_count": 57,
   "metadata": {},
   "outputs": [
    {
     "data": {
      "text/plain": [
       "[]"
      ]
     },
     "execution_count": 57,
     "metadata": {},
     "output_type": "execute_result"
    }
   ],
   "source": [
    "resposta = driver.open(\"https://www.ncbi.nlm.nih.gov/pmc/\", \"term=risk+AND+learning+&EntrezSystem2.PEntrez.PMC.Pmc_PageController.PreviousPageName=results&EntrezSystem2.PEntrez.PMC.Pmc_ResultsPanel.EmailTab.EmailReport=&EntrezSystem2.PEntrez.PMC.Pmc_ResultsPanel.EmailTab.EmailFormat=&EntrezSystem2.PEntrez.PMC.Pmc_ResultsPanel.EmailTab.EmailCount=&EntrezSystem2.PEntrez.PMC.Pmc_ResultsPanel.EmailTab.EmailStart=&EntrezSystem2.PEntrez.PMC.Pmc_ResultsPanel.EmailTab.EmailSort=&EntrezSystem2.PEntrez.PMC.Pmc_ResultsPanel.EmailTab.Email=&EntrezSystem2.PEntrez.PMC.Pmc_ResultsPanel.EmailTab.EmailSubject=&EntrezSystem2.PEntrez.PMC.Pmc_ResultsPanel.EmailTab.EmailText=&EntrezSystem2.PEntrez.PMC.Pmc_ResultsPanel.EmailTab.EmailQueryKey=&EntrezSystem2.PEntrez.PMC.Pmc_ResultsPanel.EmailTab.EmailHID=1p9IC7bgF_qEzjxDsexXDYXSTh4UWF_ZJPGX1OFuYTzLmoccxfwfhzsxyiZQBLEmDRN_EZMywhgUae6rymlS8uqLh7mW_WTM1N&EntrezSystem2.PEntrez.PMC.Pmc_ResultsPanel.EmailTab.QueryDescription=&EntrezSystem2.PEntrez.PMC.Pmc_ResultsPanel.EmailTab.Key=&EntrezSystem2.PEntrez.PMC.Pmc_ResultsPanel.EmailTab.Answer=&EntrezSystem2.PEntrez.PMC.Pmc_ResultsPanel.EmailTab.Holding=&EntrezSystem2.PEntrez.PMC.Pmc_ResultsPanel.EmailTab.HoldingFft=&EntrezSystem2.PEntrez.PMC.Pmc_ResultsPanel.EmailTab.HoldingNdiSet=&EntrezSystem2.PEntrez.PMC.Pmc_ResultsPanel.EmailTab.OToolValue=&EntrezSystem2.PEntrez.PMC.Pmc_ResultsPanel.EmailTab.SubjectList=&EntrezSystem2.PEntrez.PMC.Facets.FacetsUrlFrag=filters%3D&EntrezSystem2.PEntrez.PMC.Facets.FacetSubmitted=false&EntrezSystem2.PEntrez.PMC.Facets.BMFacets=&EntrezSystem2.PEntrez.PMC.Pmc_ResultsPanel.Pmc_DisplayBar.sPresentation=DocSum&EntrezSystem2.PEntrez.PMC.Pmc_ResultsPanel.Pmc_DisplayBar.sPageSize=20&EntrezSystem2.PEntrez.PMC.Pmc_ResultsPanel.Pmc_DisplayBar.sSort=none&EntrezSystem2.PEntrez.PMC.Pmc_ResultsPanel.Pmc_DisplayBar.FFormat=DocSum&EntrezSystem2.PEntrez.PMC.Pmc_ResultsPanel.Pmc_DisplayBar.FSort=&email_format=DocSum&email_sort=&email_count=20&email_start=1&email_address=&email_add_text=&EntrezSystem2.PEntrez.PMC.Pmc_ResultsPanel.Pmc_DisplayBar.FileFormat=docsum&EntrezSystem2.PEntrez.PMC.Pmc_ResultsPanel.Pmc_DisplayBar.LastPresentation=docsum&EntrezSystem2.PEntrez.PMC.Pmc_ResultsPanel.Pmc_DisplayBar.Presentation=docsum&EntrezSystem2.PEntrez.PMC.Pmc_ResultsPanel.Pmc_DisplayBar.PageSize=20&EntrezSystem2.PEntrez.PMC.Pmc_ResultsPanel.Pmc_DisplayBar.LastPageSize=20&EntrezSystem2.PEntrez.PMC.Pmc_ResultsPanel.Pmc_DisplayBar.Sort=&EntrezSystem2.PEntrez.PMC.Pmc_ResultsPanel.Pmc_DisplayBar.LastSort=&EntrezSystem2.PEntrez.PMC.Pmc_ResultsPanel.Pmc_DisplayBar.FileSort=&EntrezSystem2.PEntrez.PMC.Pmc_ResultsPanel.Pmc_DisplayBar.Format=&EntrezSystem2.PEntrez.PMC.Pmc_ResultsPanel.Pmc_DisplayBar.LastFormat=&EntrezSystem2.PEntrez.PMC.Pmc_ResultsPanel.Pmc_ResultsSearchController.ResultCount=172380&EntrezSystem2.PEntrez.PMC.Pmc_ResultsPanel.Pmc_ResultsSearchController.RunLastQuery=&EntrezSystem2.PEntrez.PMC.Pmc_ResultsPanel.Entrez_Pager.cPage=1&EntrezSystem2.PEntrez.PMC.Pmc_ResultsPanel.Entrez_Pager.CurrPage=2&EntrezSystem2.PEntrez.PMC.Pmc_ResultsPanel.Entrez_Pager.cPage=1&EntrezSystem2.PEntrez.PMC.Pmc_ResultsPanel.Pmc_DisplayBar.sPresentation2=DocSum&EntrezSystem2.PEntrez.PMC.Pmc_ResultsPanel.Pmc_DisplayBar.sPageSize2=20&EntrezSystem2.PEntrez.PMC.Pmc_ResultsPanel.Pmc_DisplayBar.sSort2=none&EntrezSystem2.PEntrez.PMC.Pmc_ResultsPanel.Pmc_DisplayBar.FFormat2=DocSum&EntrezSystem2.PEntrez.PMC.Pmc_ResultsPanel.Pmc_DisplayBar.FSort2=&email_format2=DocSum&email_sort2=&email_count2=20&email_start2=1&email_address2=&email_add_text2=&EntrezSystem2.PEntrez.PMC.Pmc_ResultsPanel.Pmc_FilterTab.CurrFilter=all&EntrezSystem2.PEntrez.PMC.Pmc_ResultsPanel.Pmc_FilterTab.LastFilter=all&EntrezSystem2.PEntrez.PMC.Pmc_ResultsPanel.Pmc_MultiItemSupl.Pmc_RelatedDataLinks.rdDatabase=rddbto&EntrezSystem2.PEntrez.PMC.Pmc_ResultsPanel.Pmc_MultiItemSupl.Pmc_RelatedDataLinks.DbName=pmc&EntrezSystem2.PEntrez.PMC.Pmc_ResultsPanel.Discovery_SearchDetails.SearchDetailsTerm=%28%22risk%22%5BMeSH+Terms%5D+OR+%22risk%22%5BAll+Fields%5D%29+AND+%28%22learning%22%5BMeSH+Terms%5D+OR+%22learning%22%5BAll+Fields%5D%29&EntrezSystem2.PEntrez.PMC.Pmc_ResultsPanel.HistoryDisplay.Cmd=PageChanged&EntrezSystem2.PEntrez.DbConnector.Db=pmc&EntrezSystem2.PEntrez.DbConnector.LastDb=pmc&EntrezSystem2.PEntrez.DbConnector.Term=risk+AND+learning&EntrezSystem2.PEntrez.DbConnector.LastTabCmd=&EntrezSystem2.PEntrez.DbConnector.LastQueryKey=18&EntrezSystem2.PEntrez.DbConnector.IdsFromResult=&EntrezSystem2.PEntrez.DbConnector.LastIdsFromResult=&EntrezSystem2.PEntrez.DbConnector.LinkName=&EntrezSystem2.PEntrez.DbConnector.LinkReadableName=&EntrezSystem2.PEntrez.DbConnector.LinkSrcDb=&EntrezSystem2.PEntrez.DbConnector.Cmd=PageChanged&EntrezSystem2.PEntrez.DbConnector.TabCmd=&EntrezSystem2.PEntrez.DbConnector.QueryKey=&p%24a=EntrezSystem2.PEntrez.PMC.Pmc_ResultsPanel.Entrez_Pager.Page&p%24l=EntrezSystem2&p%24st=pmc\")\n",
    "html = resposta.read()\n",
    "soup = bsoup(html,\"html5lib\")\n",
    "soup.findAll(\"div\", {\"class\":\"title\"})"
   ]
  },
  {
   "cell_type": "code",
   "execution_count": 44,
   "metadata": {},
   "outputs": [
    {
     "data": {
      "text/plain": [
       "[u'/pmc/articles/PMC4491543/']"
      ]
     },
     "execution_count": 44,
     "metadata": {},
     "output_type": "execute_result"
    }
   ],
   "source": [
    "[link.findAll('a', href=True)[0]['href'] for link in links[:1]]"
   ]
  },
  {
   "cell_type": "code",
   "execution_count": 40,
   "metadata": {},
   "outputs": [
    {
     "data": {
      "text/plain": [
       "'term=%28Risk+Stratification+OR+Risk+Score%29+AND+%28Machine+Learning+OR+image+processing%29'"
      ]
     },
     "execution_count": 40,
     "metadata": {},
     "output_type": "execute_result"
    }
   ],
   "source": [
    "pesquisa = {'term':'(Risk Stratification OR Risk Score) AND (Machine Learning OR image processing)'\n",
    "           'EntrezSystem2.PEntrez.PMC.Pmc_ResultsPanel.Pmc_DisplayBar.PageSize':20,\n",
    "           'EntrezSystem2.PEntrez.PMC.Pmc_ResultsPanel.Entrez_Pager.CurrPage':2}\n",
    "resposta = driver.open(base_url + '/pmc/', urlencode(pesquisa))\n",
    "urlencode(pesquisa)"
   ]
  },
  {
   "cell_type": "code",
   "execution_count": null,
   "metadata": {},
   "outputs": [],
   "source": []
  }
 ],
 "metadata": {
  "kernelspec": {
   "display_name": "Python 2",
   "language": "python",
   "name": "python2"
  },
  "language_info": {
   "codemirror_mode": {
    "name": "ipython",
    "version": 2
   },
   "file_extension": ".py",
   "mimetype": "text/x-python",
   "name": "python",
   "nbconvert_exporter": "python",
   "pygments_lexer": "ipython2",
   "version": "2.7.14"
  }
 },
 "nbformat": 4,
 "nbformat_minor": 2
}
