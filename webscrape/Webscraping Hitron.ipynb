{
 "cells": [
  {
   "cell_type": "code",
   "execution_count": 1,
   "metadata": {
    "collapsed": true
   },
   "outputs": [],
   "source": [
    "import mechanize\n",
    "import urllib\n",
    "from bs4 import BeautifulSoup as bsoup\n",
    "import sqlite3\n",
    "#Browser\n",
    "driver = mechanize.Browser()\n",
    "#URLs\n",
    "base_url = \"http://192.168.0.1\"\n",
    "login_url = base_url+\"/goform/login\"\n",
    "mac_filter_url = base_url + \"/goform/LanAccess\"\n",
    "#Dados basicos\n",
    "mac_filter_base_data = \"file=feat-firewall-macfilter&dir=admin%2F&access_type=&trustmode=1&mac=1\"\n",
    "#Banco\n",
    "conn = sqlite3.connect('/home/diego/hitron.db')\n",
    "cursor = conn.cursor()"
   ]
  },
  {
   "cell_type": "code",
   "execution_count": 62,
   "metadata": {},
   "outputs": [],
   "source": [
    "def login(driver):\n",
    "    #Já faz login submetendo username e senha\n",
    "    return driver.open(login_url, 'user=cusadmin&pws=password')\n",
    "    \n",
    "def access_type(driver, value):\n",
    "    #0=allow all, 1=allow, 2=deny\n",
    "    return driver.open(post_url,base_data + \"&access_type=\" + str(value))\n",
    "\n",
    "def refresh(driver):\n",
    "    reset = {'trustmode':'1'}\n",
    "    data = mac_filter_base_data + '&' + urllib.urlencode(reset)\n",
    "    driver.open(mac_filter_url,data)\n",
    "    reset = {'trustmode':'2'}\n",
    "    data = mac_filter_base_data + '&' + urllib.urlencode(reset)\n",
    "    driver.open(mac_filter_url,data)\n",
    "    \n",
    "def enable_all(driver):\n",
    "    sql = \"SELECT nome, mac FROM dispositivos\"\n",
    "    cursor.execute(sql)\n",
    "    resultado = [x for x in cursor.fetchall()]\n",
    "    payload = {}\n",
    "    for i, linha in enumerate(resultado):\n",
    "        payload[\"mac%d\"%i] = \"%s,%s\" % (linha[0],linha[1])\n",
    "    data = mac_filter_base_data + '&' + urllib.urlencode(payload)\n",
    "    print data\n",
    "    driver.open(mac_filter_url,data)"
   ]
  },
  {
   "cell_type": "code",
   "execution_count": 63,
   "metadata": {},
   "outputs": [
    {
     "name": "stdout",
     "output_type": "stream",
     "text": [
      "file=feat-firewall-macfilter&dir=admin%2F&access_type=&trustmode=1&mac=1&\n"
     ]
    }
   ],
   "source": [
    "login(driver)\n",
    "enable_all(driver)"
   ]
  },
  {
   "cell_type": "code",
   "execution_count": 61,
   "metadata": {},
   "outputs": [
    {
     "data": {
      "text/plain": [
       "<response_seek_wrapper at 0x7f7d300dac68 whose wrapped object = <closeable_response at 0x7f7d3006bcb0 whose fp = <socket._fileobject object at 0x7f7d3005add0>>>"
      ]
     },
     "execution_count": 61,
     "metadata": {},
     "output_type": "execute_result"
    }
   ],
   "source": [
    "allowed_macs = {'trustmode':'1',\n",
    "                'mac0': 'diegocel,40:78:6a:9a:bb:69',\n",
    "                'mac1': 'paicel,f8:cf:c5:9c:08:74',\n",
    "                'mac2': 'diegopc,e0:06:e6:fd:22:2b',\n",
    "                'mac3': 'maetablet,78:a8:73:90:26:fa',\n",
    "                'mac4': 'danicel,44:80:eb:bc:8f:07'}\n",
    "\n",
    "denied_macs = {'trustmode':'2',\n",
    "               'mac0':'maetableto,29:A8:73:90:26:FF'}\n",
    "\n",
    "data = mac_filter_base_data + '&' + urllib.urlencode(denied_macs)\n",
    "\n",
    "login(driver)\n",
    "driver.open(mac_filter_url,data)"
   ]
  },
  {
   "cell_type": "code",
   "execution_count": 2,
   "metadata": {},
   "outputs": [
    {
     "data": {
      "text/plain": [
       "[]"
      ]
     },
     "execution_count": 2,
     "metadata": {},
     "output_type": "execute_result"
    }
   ],
   "source": [
    "# sql = \"\"\"\n",
    "# INSERT INTO dispositivos (nome, mac, acesso_permitido)\n",
    "# VALUES (?,?,?)\n",
    "# \"\"\"\n",
    "# cursor.execute(sql, (\"maetableto\",\"29:35:eb:bc:8f:07\",\"FALSE\"))\n",
    "\n",
    "sql = \"\"\"\n",
    "SELECT nome, mac FROM dispositivos\n",
    "\"\"\"\n",
    "cursor.execute(sql)\n",
    "r = [x for x in cursor.fetchall()]\n",
    "r"
   ]
  },
  {
   "cell_type": "code",
   "execution_count": 9,
   "metadata": {
    "collapsed": true
   },
   "outputs": [],
   "source": [
    "conn.close()"
   ]
  },
  {
   "cell_type": "code",
   "execution_count": null,
   "metadata": {
    "collapsed": true
   },
   "outputs": [],
   "source": [
    "term=%28Rishko+Stratification+OR+Risk+Score%29+AND+%28Machine+Learning+OR+image+processing%29+&EntrezSystem2.PEntrez.PMC.Pmc_PageController.PreviousPageName=results&EntrezSystem2.PEntrez.PMC.Pmc_ResultsPanel.EmailTab.EmailReport=&EntrezSystem2.PEntrez.PMC.Pmc_ResultsPanel.EmailTab.EmailFormat=&EntrezSystem2.PEntrez.PMC.Pmc_ResultsPanel.EmailTab.EmailCount=&EntrezSystem2.PEntrez.PMC.Pmc_ResultsPanel.EmailTab.EmailStart=&EntrezSystem2.PEntrez.PMC.Pmc_ResultsPanel.EmailTab.EmailSort=&EntrezSystem2.PEntrez.PMC.Pmc_ResultsPanel.EmailTab.Email=&EntrezSystem2.PEntrez.PMC.Pmc_ResultsPanel.EmailTab.EmailSubject=&EntrezSystem2.PEntrez.PMC.Pmc_ResultsPanel.EmailTab.EmailText=&EntrezSystem2.PEntrez.PMC.Pmc_ResultsPanel.EmailTab.EmailQueryKey=&EntrezSystem2.PEntrez.PMC.Pmc_ResultsPanel.EmailTab.EmailHID=1lq3PI2xMTIB31VHlCNnOJSI3VPFxm2QRwq63Wb2dswJpl-o-qZCAJRPGRBrR9kvh68El96_jwgaa66anbfnjfvOsldmgL41UT&EntrezSystem2.PEntrez.PMC.Pmc_ResultsPanel.EmailTab.QueryDescription=&EntrezSystem2.PEntrez.PMC.Pmc_ResultsPanel.EmailTab.Key=&EntrezSystem2.PEntrez.PMC.Pmc_ResultsPanel.EmailTab.Answer=&EntrezSystem2.PEntrez.PMC.Pmc_ResultsPanel.EmailTab.Holding=&EntrezSystem2.PEntrez.PMC.Pmc_ResultsPanel.EmailTab.HoldingFft=&EntrezSystem2.PEntrez.PMC.Pmc_ResultsPanel.EmailTab.HoldingNdiSet=&EntrezSystem2.PEntrez.PMC.Pmc_ResultsPanel.EmailTab.OToolValue=&EntrezSystem2.PEntrez.PMC.Pmc_ResultsPanel.EmailTab.SubjectList=&EntrezSystem2.PEntrez.PMC.Facets.FacetsUrlFrag=filters%3D&EntrezSystem2.PEntrez.PMC.Facets.FacetSubmitted=false&EntrezSystem2.PEntrez.PMC.Facets.BMFacets=&EntrezSystem2.PEntrez.PMC.Pmc_ResultsPanel.Pmc_DisplayBar.sPresentation=DocSum&EntrezSystem2.PEntrez.PMC.Pmc_ResultsPanel.Pmc_DisplayBar.sPageSize=20&EntrezSystem2.PEntrez.PMC.Pmc_ResultsPanel.Pmc_DisplayBar.sSort=none&EntrezSystem2.PEntrez.PMC.Pmc_ResultsPanel.Pmc_DisplayBar.FFormat=DocSum&EntrezSystem2.PEntrez.PMC.Pmc_ResultsPanel.Pmc_DisplayBar.FSort=&email_format=DocSum&email_sort=&email_count=20&email_start=1&email_address=&email_add_text=&EntrezSystem2.PEntrez.PMC.Pmc_ResultsPanel.Pmc_DisplayBar.FileFormat=docsum&EntrezSystem2.PEntrez.PMC.Pmc_ResultsPanel.Pmc_DisplayBar.LastPresentation=docsum&EntrezSystem2.PEntrez.PMC.Pmc_ResultsPanel.Pmc_DisplayBar.Presentation=docsum&EntrezSystem2.PEntrez.PMC.Pmc_ResultsPanel.Pmc_DisplayBar.PageSize=20&EntrezSystem2.PEntrez.PMC.Pmc_ResultsPanel.Pmc_DisplayBar.LastPageSize=20&EntrezSystem2.PEntrez.PMC.Pmc_ResultsPanel.Pmc_DisplayBar.Sort=&EntrezSystem2.PEntrez.PMC.Pmc_ResultsPanel.Pmc_DisplayBar.LastSort=&EntrezSystem2.PEntrez.PMC.Pmc_ResultsPanel.Pmc_DisplayBar.FileSort=&EntrezSystem2.PEntrez.PMC.Pmc_ResultsPanel.Pmc_DisplayBar.Format=&EntrezSystem2.PEntrez.PMC.Pmc_ResultsPanel.Pmc_DisplayBar.LastFormat=&EntrezSystem2.PEntrez.PMC.Pmc_ResultsPanel.Pmc_ResultsSearchController.ResultCount=28272&EntrezSystem2.PEntrez.PMC.Pmc_ResultsPanel.Pmc_ResultsSearchController.RunLastQuery=&EntrezSystem2.PEntrez.PMC.Pmc_ResultsPanel.Entrez_Pager.cPage=1&EntrezSystem2.PEntrez.PMC.Pmc_ResultsPanel.Entrez_Pager.CurrPage=2&EntrezSystem2.PEntrez.PMC.Pmc_ResultsPanel.Entrez_Pager.cPage=1&EntrezSystem2.PEntrez.PMC.Pmc_ResultsPanel.Pmc_DisplayBar.sPresentation2=DocSum&EntrezSystem2.PEntrez.PMC.Pmc_ResultsPanel.Pmc_DisplayBar.sPageSize2=20&EntrezSystem2.PEntrez.PMC.Pmc_ResultsPanel.Pmc_DisplayBar.sSort2=none&EntrezSystem2.PEntrez.PMC.Pmc_ResultsPanel.Pmc_DisplayBar.FFormat2=DocSum&EntrezSystem2.PEntrez.PMC.Pmc_ResultsPanel.Pmc_DisplayBar.FSort2=&email_format2=DocSum&email_sort2=&email_count2=20&email_start2=1&email_address2=&email_add_text2=&EntrezSystem2.PEntrez.PMC.Pmc_ResultsPanel.Pmc_FilterTab.CurrFilter=all&EntrezSystem2.PEntrez.PMC.Pmc_ResultsPanel.Pmc_FilterTab.LastFilter=all&EntrezSystem2.PEntrez.PMC.Pmc_ResultsPanel.Pmc_MultiItemSupl.Pmc_RelatedDataLinks.rdDatabase=rddbto&EntrezSystem2.PEntrez.PMC.Pmc_ResultsPanel.Pmc_MultiItemSupl.Pmc_RelatedDataLinks.DbName=pmc&EntrezSystem2.PEntrez.PMC.Pmc_ResultsPanel.Discovery_SearchDetails.SearchDetailsTerm=%28%28Rishko%5BAll+Fields%5D+AND+Stratification%5BAll+Fields%5D%29+OR+%28%28%22risk%22%5BMeSH+Terms%5D+OR+%22risk%22%5BAll+Fields%5D%29+AND+Score%5BAll+Fields%5D%29%29+AND+%28%28%22machine+learning%22%5BMeSH+Terms%5D+OR+%28%22machine%22%5BAll+Fields%5D+AND+%22learning%22%5BAll+Fields%5D%29+OR+%22machine+learning%22%5BAll+Fields%5D%29+OR+%28%22image%22%5BAll+Fields%5D+AND+processing%5BAll+Fields%5D%29%29&EntrezSystem2.PEntrez.PMC.Pmc_ResultsPanel.HistoryDisplay.Cmd=PageChanged&EntrezSystem2.PEntrez.DbConnector.Db=pmc&EntrezSystem2.PEntrez.DbConnector.LastDb=pmc&EntrezSystem2.PEntrez.DbConnector.Term=%28Rishko+Stratification+OR+Risk+Score%29+AND+%28Machine+Learning+OR+image+processing%29&EntrezSystem2.PEntrez.DbConnector.LastTabCmd=&EntrezSystem2.PEntrez.DbConnector.LastQueryKey=17&EntrezSystem2.PEntrez.DbConnector.IdsFromResult=&EntrezSystem2.PEntrez.DbConnector.LastIdsFromResult=&EntrezSystem2.PEntrez.DbConnector.LinkName=&EntrezSystem2.PEntrez.DbConnector.LinkReadableName=&EntrezSystem2.PEntrez.DbConnector.LinkSrcDb=&EntrezSystem2.PEntrez.DbConnector.Cmd=PageChanged&EntrezSystem2.PEntrez.DbConnector.TabCmd=&EntrezSystem2.PEntrez.DbConnector.QueryKey=&p%24a=EntrezSystem2.PEntrez.PMC.Pmc_ResultsPanel.Entrez_Pager.Page&p%24l=EntrezSystem2&p%24st=pmc"
   ]
  }
 ],
 "metadata": {
  "kernelspec": {
   "display_name": "Python 2",
   "language": "python",
   "name": "python2"
  },
  "language_info": {
   "codemirror_mode": {
    "name": "ipython",
    "version": 2
   },
   "file_extension": ".py",
   "mimetype": "text/x-python",
   "name": "python",
   "nbconvert_exporter": "python",
   "pygments_lexer": "ipython2",
   "version": "2.7.14"
  }
 },
 "nbformat": 4,
 "nbformat_minor": 1
}
