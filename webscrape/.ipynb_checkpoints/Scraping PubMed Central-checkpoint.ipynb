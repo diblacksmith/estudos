{
 "cells": [
  {
   "cell_type": "code",
   "execution_count": 18,
   "metadata": {
    "collapsed": false
   },
   "outputs": [],
   "source": [
    "def salvar_html(html, filename):\n",
    "    \"\"\"Salva o resultado de uma requisição para visualização (sem css) no browser\n",
    "    \"\"\"\n",
    "    with open(filename,'w') as myf:\n",
    "        myf.write(html)\n",
    "    "
   ]
  },
  {
   "cell_type": "code",
   "execution_count": 19,
   "metadata": {
    "collapsed": false
   },
   "outputs": [],
   "source": [
    "import mechanize\n",
    "from urllib import urlencode\n",
    "from bs4 import BeautifulSoup as bsoup\n",
    "import sqlite3\n",
    "#Browser\n",
    "driver = mechanize.Browser()\n",
    "clear_cookies = driver._ua_handlers['_cookies'].cookiejar.clear\n",
    "#URLs\n",
    "base_url = \"https://www.ncbi.nlm.nih.gov\""
   ]
  },
  {
   "cell_type": "markdown",
   "metadata": {},
   "source": [
    "### Encontrando os artigos na primeira página"
   ]
  },
  {
   "cell_type": "code",
   "execution_count": 24,
   "metadata": {
    "collapsed": false
   },
   "outputs": [
    {
     "name": "stdout",
     "output_type": "stream",
     "text": [
      "shy - PMC - NCBI\n",
      "1\n",
      "PMP22 exon 4 deletion causes ER retention of PMP22 and a gain‐of‐function allele in CMT1E\n",
      "\n",
      "Charcot Marie Tooth (CMT) Subtypes and Genetic Testing Strategies\n",
      "\n",
      "High-Dosage Ascorbic Acid Treatment in Charcot-Marie-Tooth Disease Type 1A: Results of a Randomized, Double-Masked, Controlled Trial\n"
     ]
    }
   ],
   "source": [
    "### Pesquisar\n",
    "pesquisa = {'term':'shy'}\n",
    "resposta = driver.open(base_url + '/pmc/', urlencode(pesquisa))\n",
    "\n",
    "### Pegar resultados\n",
    "soup = bsoup(resposta.read(), \"html5lib\")\n",
    "#Título da página\n",
    "print soup.findAll('title')[0].text\n",
    "# Número da página\n",
    "print soup.findAll('input',id='pageno')[0]['value']\n",
    "#Títulos dos papers encontrados\n",
    "links = soup.findAll(\"div\", {\"class\":\"title\"})\n",
    "print '\\n\\n'.join([link.text for link in links[:3]])"
   ]
  },
  {
   "cell_type": "markdown",
   "metadata": {},
   "source": [
    "### Encontrando os artigos depois da primeira página"
   ]
  },
  {
   "cell_type": "code",
   "execution_count": 25,
   "metadata": {
    "collapsed": false
   },
   "outputs": [
    {
     "name": "stdout",
     "output_type": "stream",
     "text": [
      "shy - PMC - NCBI\n",
      "3\n",
      "Validation of the CMT Pediatric Scale as an outcome measure of disability\n",
      "\n",
      "Reduced neurofilament expression in cutaneous nerve fibers of patients with CMT2E\n",
      "\n",
      "Small nerve fiber involvement in CMT1A\n"
     ]
    }
   ],
   "source": [
    "from imports_pmc import _querystring, _pageno\n",
    "### Pesquisar, setando o request com o número da página\n",
    "_querystring[_pageno] = 3\n",
    "resposta = driver.open(\"https://www.ncbi.nlm.nih.gov/pmc/\", urlencode(_querystring))\n",
    "\n",
    "### Pegar resultados\n",
    "soup = bsoup(resposta.read(), \"html5lib\")\n",
    "#Título da página\n",
    "print soup.findAll('title')[0].text\n",
    "# Número da página\n",
    "print soup.findAll('input',id='pageno')[0]['value']\n",
    "#Títulos dos papers encontrados\n",
    "links = soup.findAll(\"div\", {\"class\":\"title\"})\n",
    "print '\\n\\n'.join([link.text for link in links[:3]])"
   ]
  },
  {
   "cell_type": "code",
   "execution_count": 28,
   "metadata": {
    "collapsed": false
   },
   "outputs": [
    {
     "data": {
      "text/plain": [
       "[u'/pmc/articles/PMC3335189/',\n",
       " u'/pmc/articles/PMC4516296/',\n",
       " u'/pmc/articles/PMC4336000/']"
      ]
     },
     "execution_count": 28,
     "metadata": {},
     "output_type": "execute_result"
    }
   ],
   "source": [
    "[link.findAll('a', href=True)[0]['href'] for link in links[:3]]"
   ]
  },
  {
   "cell_type": "code",
   "execution_count": null,
   "metadata": {
    "collapsed": true
   },
   "outputs": [],
   "source": []
  }
 ],
 "metadata": {
  "kernelspec": {
   "display_name": "Python 2",
   "language": "python",
   "name": "python2"
  },
  "language_info": {
   "codemirror_mode": {
    "name": "ipython",
    "version": 2
   },
   "file_extension": ".py",
   "mimetype": "text/x-python",
   "name": "python",
   "nbconvert_exporter": "python",
   "pygments_lexer": "ipython2",
   "version": "2.7.14"
  }
 },
 "nbformat": 4,
 "nbformat_minor": 2
}
