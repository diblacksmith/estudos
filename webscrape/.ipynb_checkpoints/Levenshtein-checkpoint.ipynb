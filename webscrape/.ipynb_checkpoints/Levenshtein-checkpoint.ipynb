{
 "cells": [
  {
   "cell_type": "code",
   "execution_count": 1,
   "metadata": {},
   "outputs": [
    {
     "name": "stdout",
     "output_type": "stream",
     "text": [
      "3\n",
      "The function was called 127 times!\n"
     ]
    }
   ],
   "source": [
    "def call_counter(func):\n",
    "    def helper(*args, **kwargs):\n",
    "        helper.calls += 1\n",
    "        return func(*args, **kwargs)\n",
    "    helper.calls = 0\n",
    "    helper.__name__= func.__name__\n",
    "    return helper\n",
    "def memoize(func):\n",
    "    mem = {}\n",
    "    def memoizer(*args, **kwargs):\n",
    "        key = str(args) + str(kwargs)\n",
    "        if key not in mem:\n",
    "            mem[key] = func(*args, **kwargs)\n",
    "        return mem[key]\n",
    "    return memoizer\n",
    "@call_counter\n",
    "@memoize    \n",
    "def levenshtein(s, t):\n",
    "    if s == \"\":\n",
    "        return len(t)\n",
    "    if t == \"\":\n",
    "        return len(s)\n",
    "    if s[-1] == t[-1]:\n",
    "        cost = 0\n",
    "    else:\n",
    "        cost = 1\n",
    "    \n",
    "    res = min([levenshtein(s[:-1], t)+1,\n",
    "               levenshtein(s, t[:-1])+1, \n",
    "               levenshtein(s[:-1], t[:-1]) + cost])\n",
    "    return res\n",
    "print(levenshtein(\"Python\", \"Peithen\"))\n",
    "print(\"The function was called \" + str(levenshtein.calls) + \" times!\")"
   ]
  },
  {
   "cell_type": "code",
   "execution_count": 11,
   "metadata": {},
   "outputs": [],
   "source": [
    "import mechanize\n",
    "import urllib\n",
    "from bs4 import BeautifulSoup as bsoup\n",
    "import sqlite3\n",
    "#Browser\n",
    "driver = mechanize.Browser()\n",
    "#URLs\n",
    "base_url = \"https://www.ncbi.nlm.nih.gov\"\n",
    "pesquisa = 'term=(Risk+Stratification+OR+Risk+Score)+AND+(Machine+Learning+OR+image+processing)'\n",
    "resposta = driver.open(base_url + '/pmc/', pesquisa)\n",
    "soup = bsoup(resposta.read(), \"html5lib\")"
   ]
  },
  {
   "cell_type": "code",
   "execution_count": 24,
   "metadata": {},
   "outputs": [],
   "source": [
    "links = soup.findAll(\"div\", {\"class\":\"title\"})"
   ]
  },
  {
   "cell_type": "code",
   "execution_count": 25,
   "metadata": {},
   "outputs": [
    {
     "data": {
      "text/plain": [
       "u'Automating Construction of Machine Learning Models With Clinical Big Data: Proposal Rationale and Methods'"
      ]
     },
     "execution_count": 25,
     "metadata": {},
     "output_type": "execute_result"
    }
   ],
   "source": [
    "links[1].text"
   ]
  },
  {
   "cell_type": "code",
   "execution_count": 27,
   "metadata": {},
   "outputs": [
    {
     "data": {
      "text/plain": [
       "[u'Cardiac imaging: working towards fully-automated machine analysis & interpretation',\n",
       " u'Automating Construction of Machine Learning Models With Clinical Big Data: Proposal Rationale and Methods',\n",
       " u'MLBCD: a machine learning tool for big clinical data',\n",
       " u'Can machine-learning improve cardiovascular risk prediction using routine clinical data?',\n",
       " u'Accuracy of automated classification of major depressive disorder as a function of symptom severity',\n",
       " u'Classification of caesarean section and normal vaginal deliveries using foetal heart rate signals and advanced machine learning algorithms',\n",
       " u'A comparative study of machine learning methods for time-to-event survival data for radiomics risk modelling',\n",
       " u'Machine Learning and Data Mining Methods in Diabetes Research',\n",
       " u'Performance of machine-learning scoring functions in structure-based virtual screening',\n",
       " u'Machine Learning Algorithms Outperform Conventional Regression Models\\nin Predicting Development of Hepatocellular Carcinoma']"
      ]
     },
     "execution_count": 27,
     "metadata": {},
     "output_type": "execute_result"
    }
   ],
   "source": [
    "[link.text for link in links[:10]]"
   ]
  },
  {
   "cell_type": "code",
   "execution_count": 36,
   "metadata": {},
   "outputs": [
    {
     "data": {
      "text/plain": [
       "[u'/pmc/articles/PMC5450918/',\n",
       " u'/pmc/articles/PMC5596298/',\n",
       " u'/pmc/articles/PMC4584489/',\n",
       " u'/pmc/articles/PMC5380334/',\n",
       " u'/pmc/articles/PMC4983635/',\n",
       " u'/pmc/articles/PMC5498914/',\n",
       " u'/pmc/articles/PMC5643429/',\n",
       " u'/pmc/articles/PMC5257026/',\n",
       " u'/pmc/articles/PMC5404222/',\n",
       " u'/pmc/articles/PMC4610387/']"
      ]
     },
     "execution_count": 36,
     "metadata": {},
     "output_type": "execute_result"
    }
   ],
   "source": [
    "[link.findAll('a', href=True)[0]['href'] for link in links[:10]]"
   ]
  },
  {
   "cell_type": "code",
   "execution_count": null,
   "metadata": {},
   "outputs": [],
   "source": []
  }
 ],
 "metadata": {
  "kernelspec": {
   "display_name": "Python 2",
   "language": "python",
   "name": "python2"
  },
  "language_info": {
   "codemirror_mode": {
    "name": "ipython",
    "version": 2
   },
   "file_extension": ".py",
   "mimetype": "text/x-python",
   "name": "python",
   "nbconvert_exporter": "python",
   "pygments_lexer": "ipython2",
   "version": "2.7.14"
  }
 },
 "nbformat": 4,
 "nbformat_minor": 2
}
