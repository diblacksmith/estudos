{
 "cells": [
  {
   "cell_type": "code",
   "execution_count": 124,
   "metadata": {
    "collapsed": true
   },
   "outputs": [],
   "source": [
    "\n",
    "stems = {'term':[{'p':'paragraph','url':'https://www.ncbi.nlm.nih.gov/pmc/','title':'1','kwd':'keywords'},\n",
    "                {'p':'paragraph','url':'https://www.ncbi.nlm.nih.gov/pmc/','title':'2','kwd':'keywords'},\n",
    "                {'p':'paragraph','url':'https://www.ncbi.nlm.nih.gov/pmc/','title':'3','kwd':'keywords'}]}"
   ]
  },
  {
   "cell_type": "code",
   "execution_count": 133,
   "metadata": {
    "collapsed": false
   },
   "outputs": [
    {
     "name": "stdout",
     "output_type": "stream",
     "text": [
      "1 \n",
      "\n",
      "Ação saia\n"
     ]
    }
   ],
   "source": [
    "import webbrowser\n",
    "# from ast import literal_eval\n",
    "# with open('stems.txt','r') as myf:\n",
    "#     s = myf.read()\n",
    "#     stems = literal_eval(s)\n",
    "for key in stems.keys():\n",
    "    i = 0\n",
    "    while i < len(stems[key]):\n",
    "        article = stems[key][i]\n",
    "        print article['title'],'\\n'\n",
    "#         print article['kwd'],'\\n'\n",
    "#         print article['p'],'\\n'\n",
    "        \n",
    "        apagar = re.compile(\"(apa|del|rem)\",re.IGNORECASE)\n",
    "        url = re.compile(\"(url|link|ender|site|abr)\",re.IGNORECASE)\n",
    "        proximo = re.compile(\"(con|ava|pro|nex)\",re.IGNORECASE)\n",
    "        sair = re.compile(\"(sai|lea|exi|fin)\",re.IGNORECASE)\n",
    "        \n",
    "        match = False\n",
    "        while not match:\n",
    "            act = raw_input(\"Ação \")\n",
    "            if apagar.match(act):\n",
    "                print 'apagando'\n",
    "                stems[key].remove(article)\n",
    "                match = True\n",
    "                i -= 1\n",
    "            elif url.match(act):\n",
    "                print 'abrindo'\n",
    "                i -= 1\n",
    "                webbrowser.open(article['url'])\n",
    "                match = True\n",
    "            elif proximo.match(act) or act == '':\n",
    "                print 'continuando'\n",
    "                match = True\n",
    "                continue\n",
    "            elif sair.match(act):\n",
    "                i = len(stems[key])\n",
    "                match = True\n",
    "            else:\n",
    "                print 'invalido!'\n",
    "        i += 1\n",
    "    with open('stem.txt', 'w') as myf:\n",
    "        myf.write(str(stems))"
   ]
  },
  {
   "cell_type": "code",
   "execution_count": 137,
   "metadata": {
    "collapsed": false,
    "scrolled": true
   },
   "outputs": [
    {
     "data": {
      "text/plain": [
       "{'term': [{'kwd': 'keywords',\n",
       "   'p': 'paragraph',\n",
       "   'title': '1',\n",
       "   'url': 'https://www.ncbi.nlm.nih.gov/pmc/'},\n",
       "  {'kwd': 'keywords',\n",
       "   'p': 'paragraph',\n",
       "   'title': '2',\n",
       "   'url': 'https://www.ncbi.nlm.nih.gov/pmc/'},\n",
       "  {'kwd': 'keywords',\n",
       "   'p': 'paragraph',\n",
       "   'title': '3',\n",
       "   'url': 'https://www.ncbi.nlm.nih.gov/pmc/'}]}"
      ]
     },
     "execution_count": 137,
     "metadata": {},
     "output_type": "execute_result"
    }
   ],
   "source": [
    "with open('stem.txt','r') as myf:\n",
    "    from ast import literal_eval\n",
    "    s = myf.read()\n",
    "    stems = literal_eval(s)\n",
    "stems"
   ]
  },
  {
   "cell_type": "code",
   "execution_count": 43,
   "metadata": {
    "collapsed": true
   },
   "outputs": [],
   "source": [
    "import re"
   ]
  },
  {
   "cell_type": "code",
   "execution_count": 83,
   "metadata": {
    "collapsed": false
   },
   "outputs": [],
   "source": [
    "apagar = re.compile(\"(apa|del|rem)\",re.IGNORECASE)\n",
    "url = re.compile(\"(url|link|ender|site|abr)\",re.IGNORECASE)\n",
    "proximo = re.compile(\"(con|ava|pro|nex)\",re.IGNORECASE)"
   ]
  },
  {
   "cell_type": "code",
   "execution_count": 118,
   "metadata": {
    "collapsed": false
   },
   "outputs": [
    {
     "ename": "SyntaxError",
     "evalue": "invalid syntax (<ipython-input-118-4f66ff2f2a6f>, line 2)",
     "output_type": "error",
     "traceback": [
      "\u001b[1;36m  File \u001b[1;32m\"<ipython-input-118-4f66ff2f2a6f>\"\u001b[1;36m, line \u001b[1;32m2\u001b[0m\n\u001b[1;33m    i++\u001b[0m\n\u001b[1;37m       ^\u001b[0m\n\u001b[1;31mSyntaxError\u001b[0m\u001b[1;31m:\u001b[0m invalid syntax\n"
     ]
    }
   ],
   "source": [
    "i = 0\n",
    "i++\n",
    "i"
   ]
  },
  {
   "cell_type": "code",
   "execution_count": 126,
   "metadata": {
    "collapsed": false
   },
   "outputs": [
    {
     "name": "stdout",
     "output_type": "stream",
     "text": [
      "\n"
     ]
    },
    {
     "data": {
      "text/plain": [
       "''"
      ]
     },
     "execution_count": 126,
     "metadata": {},
     "output_type": "execute_result"
    }
   ],
   "source": [
    "a = raw_input(\"\")\n",
    "a"
   ]
  },
  {
   "cell_type": "code",
   "execution_count": null,
   "metadata": {
    "collapsed": true
   },
   "outputs": [],
   "source": []
  }
 ],
 "metadata": {
  "kernelspec": {
   "display_name": "Python 2",
   "language": "python",
   "name": "python2"
  },
  "language_info": {
   "codemirror_mode": {
    "name": "ipython",
    "version": 2
   },
   "file_extension": ".py",
   "mimetype": "text/x-python",
   "name": "python",
   "nbconvert_exporter": "python",
   "pygments_lexer": "ipython2",
   "version": "2.7.14"
  }
 },
 "nbformat": 4,
 "nbformat_minor": 0
}
